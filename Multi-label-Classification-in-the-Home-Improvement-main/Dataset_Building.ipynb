{
  "nbformat": 4,
  "nbformat_minor": 0,
  "metadata": {
    "colab": {
      "name": "Dataset_Building.ipynb",
      "provenance": [],
      "collapsed_sections": [],
      "include_colab_link": true
    },
    "kernelspec": {
      "display_name": "Python 3",
      "name": "python3"
    },
    "language_info": {
      "name": "python"
    }
  },
  "cells": [
    {
      "cell_type": "markdown",
      "metadata": {
        "id": "view-in-github",
        "colab_type": "text"
      },
      "source": [
        "<a href=\"https://colab.research.google.com/github/akritidu/Multi-label-Classification-in-the-Home-Improvement/blob/main/Dataset_Building.ipynb\" target=\"_parent\"><img src=\"https://colab.research.google.com/assets/colab-badge.svg\" alt=\"Open In Colab\"/></a>"
      ]
    },
    {
      "cell_type": "code",
      "metadata": {
        "id": "cwI-QGDA9L2C"
      },
      "source": [
        "import json\n",
        "import pandas as pd\n",
        "import matplotlib.pyplot as plt\n",
        "import seaborn as sns"
      ],
      "execution_count": 1,
      "outputs": []
    },
    {
      "cell_type": "code",
      "metadata": {
        "colab": {
          "base_uri": "https://localhost:8080/"
        },
        "id": "bz6QMiYl-hN5",
        "outputId": "ceab1d3a-f239-4698-d1cc-d4a3f3d9a709"
      },
      "source": [
        "from google.colab import drive\n",
        "drive.mount('/content/drive')"
      ],
      "execution_count": 2,
      "outputs": [
        {
          "output_type": "stream",
          "name": "stdout",
          "text": [
            "Mounted at /content/drive\n"
          ]
        }
      ]
    },
    {
      "cell_type": "code",
      "metadata": {
        "colab": {
          "base_uri": "https://localhost:8080/",
          "height": 35
        },
        "id": "Uidy2Wad-hQu",
        "outputId": "c8dfdc0f-0691-4652-d544-d1447dc1d213"
      },
      "source": [
        "'/content/drive/MyDrive/Dataset/Stack_overflow_Home_improvement.json'"
      ],
      "execution_count": null,
      "outputs": [
        {
          "output_type": "execute_result",
          "data": {
            "application/vnd.google.colaboratory.intrinsic+json": {
              "type": "string"
            },
            "text/plain": [
              "'/content/drive/MyDrive/Dataset/Stack_overflow_Home_improvement.json'"
            ]
          },
          "metadata": {},
          "execution_count": 18
        }
      ]
    },
    {
      "cell_type": "code",
      "metadata": {
        "id": "dAB43f0l-hTs"
      },
      "source": [
        "with open('/content/drive/MyDrive/Dataset/Stack_overflow_Home_improvement.json') as file:\n",
        "    data = json.load(file)\n",
        "    "
      ],
      "execution_count": 3,
      "outputs": []
    },
    {
      "cell_type": "code",
      "metadata": {
        "id": "J2BEdtrDhKw2"
      },
      "source": [
        "#data"
      ],
      "execution_count": 4,
      "outputs": []
    },
    {
      "cell_type": "code",
      "metadata": {
        "id": "4-fk-QNH-hWR"
      },
      "source": [
        "for key in data.keys():\n",
        "    tags = []\n",
        "   \n",
        "    for tag in data[key]['tags']:\n",
        "        split_tag = tag.split(\"/\")\n",
        "        tags.append(split_tag [-1])\n",
        "    data[key]['tags'] = tags\n",
        "    \n",
        "\n",
        "for key in data.keys():\n",
        "    questions = []\n",
        "    for question in data[key]['related_questions']:\n",
        "        split_question = question.split(\"/\")\n",
        "        questions.append(split_question[-1])\n",
        "    data[key]['related_questions'] = questions\n",
        "\n"
      ],
      "execution_count": null,
      "outputs": []
    },
    {
      "cell_type": "code",
      "metadata": {
        "colab": {
          "base_uri": "https://localhost:8080/"
        },
        "id": "6-S92dxU-hZr",
        "outputId": "25f0d803-f6dc-4ac6-813e-b8ad813e8db1"
      },
      "source": [
        "key_select = list(data.keys())[1]\n",
        "data[key_select]"
      ],
      "execution_count": null,
      "outputs": [
        {
          "output_type": "execute_result",
          "data": {
            "text/plain": [
              "{'context': 'I was wondering if I could run 120v wires inside in a larger conduit that has higher voltage wires 240v, in a smaller piece of conduit?\\nThe reason I ask is that I have a manufactured home and when they installed the 240v wiring coming from the meter it is run under the house in the crawlspace. It\\'s not in conduit untill it enters the bottom of the electrical panel. When the water pump (120v) was installed they just ran it into the conduit with the 240v wiring.\\nI know for certain you can\\'t run low and high voltage in the same conduit, but I thought that if I ran a 1/2\" conduit inside the 2\" for the 120v that would rectify the violation.\\n',\n",
              " 'linked_questions': [],\n",
              " 'q_user_edit_link': 'https://diy.stackexchange.com/users/89023/jeff-wheeler',\n",
              " 'q_user_edit_time': '2020-09-25 13:41:17Z',\n",
              " 'q_user_owner_link': 'https://diy.stackexchange.com/users/123731/norman-sobieck',\n",
              " 'q_user_owner_time': '2020-09-25 10:05:54Z',\n",
              " 'question': 'Can I run conduit containing 120V wires inside larger conduit for 240V wires?',\n",
              " 'related_questions': ['is-there-an-advantage-to-using-emt-over-plastic-flexible-conduit-for-low-voltage',\n",
              "  'which-cable-conduit-should-i-use-to-run-a-new-240-volt-line-for-an-oven',\n",
              "  'conduit-size-for-sub-panel-run',\n",
              "  'can-i-run-thhn-for-separate-washer-and-dryer-circuits-through-the-same-conduit',\n",
              "  '8-thhn-in-conduit-for-50-amp-circuits',\n",
              "  'when-derating-for-wires-in-conduit-do-you-round-up-or-down',\n",
              "  'does-a-new-manufactured-home-on-permanent-foundation-need-a-shutoff-within-30ft',\n",
              "  'how-should-i-run-this-conduit-for-security-cameras-across-a-flat-roof',\n",
              "  'can-i-replace-a-single-dedicated-20a-120v-receptacle-with-a-20a-240v-receptacle',\n",
              "  'leave-extra-wire-in-conduit-for-future-expansion'],\n",
              " 'tags': ['wiring', 'conduit', '120-240v'],\n",
              " 'upvotes': '1'}"
            ]
          },
          "metadata": {},
          "execution_count": 6
        }
      ]
    },
    {
      "cell_type": "code",
      "metadata": {
        "id": "8pTBXCvU-heI"
      },
      "source": [
        "with open('data.json', 'w') as fp:\n",
        "    json.dump(data, fp)"
      ],
      "execution_count": null,
      "outputs": []
    },
    {
      "cell_type": "code",
      "metadata": {
        "colab": {
          "base_uri": "https://localhost:8080/",
          "height": 287
        },
        "id": "MNxz7AOU_oa0",
        "outputId": "b2e91810-fc62-4345-df2f-7b6f3a291641"
      },
      "source": [
        "df = pd.read_json('data.json')\n",
        "df.head()"
      ],
      "execution_count": null,
      "outputs": [
        {
          "output_type": "execute_result",
          "data": {
            "text/html": [
              "<div>\n",
              "<style scoped>\n",
              "    .dataframe tbody tr th:only-of-type {\n",
              "        vertical-align: middle;\n",
              "    }\n",
              "\n",
              "    .dataframe tbody tr th {\n",
              "        vertical-align: top;\n",
              "    }\n",
              "\n",
              "    .dataframe thead th {\n",
              "        text-align: right;\n",
              "    }\n",
              "</style>\n",
              "<table border=\"1\" class=\"dataframe\">\n",
              "  <thead>\n",
              "    <tr style=\"text-align: right;\">\n",
              "      <th></th>\n",
              "      <th>https://diy.stackexchange.com/questions/204261/i-have-a-champion-120v-generator-i-want-to-use-it-to-plug-into-a-preinstalled-w</th>\n",
              "      <th>https://diy.stackexchange.com/questions/204189/can-i-run-conduit-containing-120v-wires-inside-larger-conduit-for-240v-wires</th>\n",
              "      <th>https://diy.stackexchange.com/questions/203504/30v-on-120-circuit-swapped-dishwashers-and-circuit-dropped-to-30v</th>\n",
              "      <th>https://diy.stackexchange.com/questions/203260/how-much-120-from-240-is-too-much</th>\n",
              "      <th>https://diy.stackexchange.com/questions/202610/is-it-possible-to-wire-a-240v-outlet-so-that-after-i-dont-need-240v-anymore-i-w</th>\n",
              "      <th>https://diy.stackexchange.com/questions/202518/can-i-use-four-wire-cable-from-the-panel-to-create-a-two-circuit-duplex-outlet</th>\n",
              "      <th>https://diy.stackexchange.com/questions/202184/rv-pedestal-20-amp-gfci-50-amp-14-50-in-same-2-gang-box</th>\n",
              "      <th>https://diy.stackexchange.com/questions/201169/is-this-how-i-add-gfci-and-regular-outlet-to-existing-multi-wire-branch-circuit</th>\n",
              "      <th>https://diy.stackexchange.com/questions/200007/proper-way-to-modernize-1940s-cabin-sub-panels</th>\n",
              "      <th>https://diy.stackexchange.com/questions/192805/dryer-240-to-120-question</th>\n",
              "      <th>https://diy.stackexchange.com/questions/190493/running-240v-circuit-to-detached-garage</th>\n",
              "      <th>https://diy.stackexchange.com/questions/186167/very-unsafe-looking-receptacle</th>\n",
              "      <th>https://diy.stackexchange.com/questions/184097/how-wasteful-is-a-voltage-transformer</th>\n",
              "      <th>https://diy.stackexchange.com/questions/181064/should-i-run-240v-for-any-supported-appliances</th>\n",
              "      <th>https://diy.stackexchange.com/questions/177788/powering-a-120v-receptacle-off-of-a-240v-circuit-breaker-dedicated-to-an-applian</th>\n",
              "      <th>https://diy.stackexchange.com/questions/176331/adding-240v-nema-14-50-outlet-right-behind-breaker-panel</th>\n",
              "      <th>https://diy.stackexchange.com/questions/176099/connecting-120-240-receptacles-on-the-same-circuit-breaker</th>\n",
              "      <th>https://diy.stackexchange.com/questions/175450/electrical-service-sizing-mix-up-in-mexico</th>\n",
              "      <th>https://diy.stackexchange.com/questions/174288/future-proofing-for-240v-outlet</th>\n",
              "      <th>https://diy.stackexchange.com/questions/172964/replace-240-receptacle-with-one-or-two-120</th>\n",
              "      <th>https://diy.stackexchange.com/questions/171504/220v-gfci-and-amps</th>\n",
              "      <th>https://diy.stackexchange.com/questions/171358/can-i-draw-240v-out-of-this-configuration</th>\n",
              "      <th>https://diy.stackexchange.com/questions/169085/two-poles-three-black-wires-and-one-white-convert-to-120-v-outlets</th>\n",
              "      <th>https://diy.stackexchange.com/questions/168137/3-wire-240-double-pole-breaker-to-110v-single-pole-breaker</th>\n",
              "      <th>https://diy.stackexchange.com/questions/167844/add-120-volt-outlet-to-a-240-volt-disconnect</th>\n",
              "      <th>https://diy.stackexchange.com/questions/166899/can-i-use-220-v-outlets-on-a-15-ampere-breaker-and-wire-it-up-as-110-v</th>\n",
              "      <th>https://diy.stackexchange.com/questions/166152/why-does-my-electric-oven-present-the-option-of-40a-and-50a-breakers</th>\n",
              "      <th>https://diy.stackexchange.com/questions/161042/240-volt-not-supplying-120-over-one-leg-and-the-neutral</th>\n",
              "      <th>https://diy.stackexchange.com/questions/159391/multi-wire-circuit-or-2-separate-120v-20a-dedicated-circuits</th>\n",
              "      <th>https://diy.stackexchange.com/questions/157599/can-a-sub-panel-have-a-larger-main-breaker-than-the-feeder-breaker-in-the-main-p</th>\n",
              "      <th>https://diy.stackexchange.com/questions/155899/does-anyone-know-how-to-split-the-240-v-wire-components-of-a-dryer-from-the-120</th>\n",
              "      <th>https://diy.stackexchange.com/questions/153986/when-splitting-a-240v-circuit-what-happens-to-neutrals-amperage</th>\n",
              "      <th>https://diy.stackexchange.com/questions/153176/powering-220v-to-neutral-appliance-from-120v-split-phase</th>\n",
              "      <th>https://diy.stackexchange.com/questions/152088/why-cant-i-or-shouldnt-i-run-a-power-cord-through-a-wall</th>\n",
              "      <th>https://diy.stackexchange.com/questions/150144/how-can-i-convert-a-220v-lighting-circuit-to-110v</th>\n",
              "      <th>https://diy.stackexchange.com/questions/149497/240-v-outlet-is-not-delivering-240-v</th>\n",
              "      <th>https://diy.stackexchange.com/questions/146536/how-to-get-110-from-240</th>\n",
              "      <th>https://diy.stackexchange.com/questions/145728/does-running-a-dryer-on-120-v-drive-up-electricity-costs</th>\n",
              "      <th>https://diy.stackexchange.com/questions/144057/120-240-multi-wire-branch-circuit-failed-inspection-because-of-uneven-loads</th>\n",
              "      <th>https://diy.stackexchange.com/questions/138072/replace-electric-water-heater-with-gas-tankless-electrical-connection</th>\n",
              "      <th>...</th>\n",
              "      <th>https://diy.stackexchange.com/questions/72567/what-type-of-material-should-i-use-for-a-shelf-over-a-washer-and-dryer</th>\n",
              "      <th>https://diy.stackexchange.com/questions/67415/how-to-fix-bar-stools-that-are-too-short</th>\n",
              "      <th>https://diy.stackexchange.com/questions/66412/how-do-i-make-bevel-cuts-to-form-a-ring-with-2x4s</th>\n",
              "      <th>https://diy.stackexchange.com/questions/66395/is-it-safe-to-use-stain-and-polyurethane-on-a-wooden-trivet</th>\n",
              "      <th>https://diy.stackexchange.com/questions/63595/woodworking-routers</th>\n",
              "      <th>https://diy.stackexchange.com/questions/63544/how-do-i-support-shelving</th>\n",
              "      <th>https://diy.stackexchange.com/questions/61556/best-tools-for-woodwork-project</th>\n",
              "      <th>https://diy.stackexchange.com/questions/59619/woodworking-workflow</th>\n",
              "      <th>https://diy.stackexchange.com/questions/55229/what-is-the-difference-between-a-lacquer-polish-and-a-varnish</th>\n",
              "      <th>https://diy.stackexchange.com/questions/51103/marbles-in-marble-dispenser-get-stuck-trying-to-fit-through-hole</th>\n",
              "      <th>https://diy.stackexchange.com/questions/47982/table-saw-blade-width</th>\n",
              "      <th>https://diy.stackexchange.com/questions/47820/what-type-of-joint-should-i-use-while-building-a-plywood-box</th>\n",
              "      <th>https://diy.stackexchange.com/questions/46167/can-i-build-a-vanity-or-am-i-in-over-my-head</th>\n",
              "      <th>https://diy.stackexchange.com/questions/44167/how-do-you-interlock-2-pieces-of-plywood</th>\n",
              "      <th>https://diy.stackexchange.com/questions/36393/how-can-i-make-tongue-and-groove-cuts-with-only-a-radial-arm-saw</th>\n",
              "      <th>https://diy.stackexchange.com/questions/33122/what-types-of-businesses-have-tree-roots-available</th>\n",
              "      <th>https://diy.stackexchange.com/questions/33090/how-can-i-ensure-precise-alignment-of-wooden-parts-assembled-with-bolts</th>\n",
              "      <th>https://diy.stackexchange.com/questions/32890/how-do-i-make-this-raspberry-pi-box</th>\n",
              "      <th>https://diy.stackexchange.com/questions/31320/what-is-the-woodworking-technique-used-to-build-this-piece</th>\n",
              "      <th>https://diy.stackexchange.com/questions/30424/how-can-wood-be-bent-this-way</th>\n",
              "      <th>https://diy.stackexchange.com/questions/28723/how-can-i-cut-route-a-small-straight-slot-through-a-piece-of-wood</th>\n",
              "      <th>https://diy.stackexchange.com/questions/27393/what-kinds-of-wood-are-suitable-for-laser-cutting</th>\n",
              "      <th>https://diy.stackexchange.com/questions/25451/is-it-possible-to-reduce-a-1-thick-board-to-1-n-boards</th>\n",
              "      <th>https://diy.stackexchange.com/questions/24651/how-can-i-shave-about-1-8-from-a-8x3-4x1-1-2-strip-of-oak</th>\n",
              "      <th>https://diy.stackexchange.com/questions/20772/should-i-use-a-hammer-or-a-mallet-when-driving-a-chisel</th>\n",
              "      <th>https://diy.stackexchange.com/questions/16015/what-are-these-metal-fittings-called</th>\n",
              "      <th>https://diy.stackexchange.com/questions/15919/understanding-how-to-read-bevel-cuts-in-woodworking-plan</th>\n",
              "      <th>https://diy.stackexchange.com/questions/15834/how-can-i-trim-veneer-edging</th>\n",
              "      <th>https://diy.stackexchange.com/questions/11701/how-can-i-make-trapezoid-shaped-wood-board-beveled-edges</th>\n",
              "      <th>https://diy.stackexchange.com/questions/11417/is-there-software-that-can-optimally-determine-how-to-cut-sheets-of-plywood-for</th>\n",
              "      <th>https://diy.stackexchange.com/questions/8106/where-can-i-find-the-ras131-dust-hood-for-a-skil-1817-router</th>\n",
              "      <th>https://diy.stackexchange.com/questions/170013/how-to-store-my-pliers-and-wire-cutters-on-my-desk</th>\n",
              "      <th>https://diy.stackexchange.com/questions/141960/how-much-power-should-i-run-to-my-workshop</th>\n",
              "      <th>https://diy.stackexchange.com/questions/101543/double-power-point-with-extra-switch</th>\n",
              "      <th>https://diy.stackexchange.com/questions/81229/how-to-fix-this-bench-vise-that-has-a-missing-handle</th>\n",
              "      <th>https://diy.stackexchange.com/questions/63642/what-size-circuit-breaker-do-i-need</th>\n",
              "      <th>https://diy.stackexchange.com/questions/15465/can-i-use-a-shop-vac-for-dust-collection-in-a-workshop</th>\n",
              "      <th>https://diy.stackexchange.com/questions/12520/should-pegboard-be-part-of-the-workbench-or-attached-to-the-wall-behind-the-work</th>\n",
              "      <th>https://diy.stackexchange.com/questions/6024/what-would-be-the-best-configuration-for-casters-for-a-workbench</th>\n",
              "      <th>https://diy.stackexchange.com/questions/202571/how-to-drain-a-specific-heating-zone</th>\n",
              "    </tr>\n",
              "  </thead>\n",
              "  <tbody>\n",
              "    <tr>\n",
              "      <th>question</th>\n",
              "      <td>I have a Champion 120V generator, I want to us...</td>\n",
              "      <td>Can I run conduit containing 120V wires inside...</td>\n",
              "      <td>30V on 120 circuit - swapped dishwashers and c...</td>\n",
              "      <td>How much 120 from 240 is too much?</td>\n",
              "      <td>Is it possible to wire a 240v outlet so that a...</td>\n",
              "      <td>Can I use four-wire cable from the panel to cr...</td>\n",
              "      <td>RV Pedestal - 20 AMP GFCI &amp; 50 AMP 14-50 in sa...</td>\n",
              "      <td>Is this how I add GFCI and Regular Outlet to e...</td>\n",
              "      <td>Proper way to modernize 1940's cabin sub-panels</td>\n",
              "      <td>Dryer 240 to 120 question</td>\n",
              "      <td>Running 240v circuit to detached garage</td>\n",
              "      <td>Very unsafe-looking receptacle</td>\n",
              "      <td>How wasteful is a voltage transformer?</td>\n",
              "      <td>Should I run 240v for any supported appliances?</td>\n",
              "      <td>Powering a 120v Receptacle off of a 240v Circu...</td>\n",
              "      <td>Adding 240v (NEMA 14-50) outlet right behind b...</td>\n",
              "      <td>Connecting 120/240 receptacles on the same cir...</td>\n",
              "      <td>Electrical service sizing mix up in Mexico</td>\n",
              "      <td>Future proofing for 240V outlet</td>\n",
              "      <td>Replace 240 receptacle with one or two 120</td>\n",
              "      <td>220v, gfci and amps</td>\n",
              "      <td>Can I draw 240v out of this configuration?</td>\n",
              "      <td>Two Poles Three Black Wires and One White - Co...</td>\n",
              "      <td>3 wire 240 double pole breaker to. 110v single...</td>\n",
              "      <td>Add 120 volt outlet to a 240 volt disconnect</td>\n",
              "      <td>Can I use 220 V outlets on a 15 ampere breaker...</td>\n",
              "      <td>Why does my electric oven present the option o...</td>\n",
              "      <td>240 volt not supplying 120 over one leg and th...</td>\n",
              "      <td>Multi wire circuit or 2 separate 120V 20A dedi...</td>\n",
              "      <td>Can a sub-panel have a larger main breaker tha...</td>\n",
              "      <td>Does anyone know how to split the 240 V wire c...</td>\n",
              "      <td>When splitting a 240v circuit, what happens to...</td>\n",
              "      <td>Powering 220V-to-neutral appliance from 120V s...</td>\n",
              "      <td>Why can't I (or: shouldn't I) run a power cord...</td>\n",
              "      <td>How can I convert a 220v lighting circuit to 1...</td>\n",
              "      <td>240 V outlet is not delivering 240 V</td>\n",
              "      <td>How to get 110 from 240</td>\n",
              "      <td>Does running a dryer on 120 V drive up electri...</td>\n",
              "      <td>120/240 Multi wire branch circuit - failed ins...</td>\n",
              "      <td>Replace electric water heater with gas tankles...</td>\n",
              "      <td>...</td>\n",
              "      <td>What type of material should I use for a shelf...</td>\n",
              "      <td>How to fix bar stools that are too short</td>\n",
              "      <td>How do I make bevel cuts to form a ring with 2...</td>\n",
              "      <td>Is it safe to use stain and polyurethane on a ...</td>\n",
              "      <td>Woodworking routers [closed]</td>\n",
              "      <td>How do I support shelving</td>\n",
              "      <td>Best tools for woodwork project</td>\n",
              "      <td>Woodworking workflow</td>\n",
              "      <td>What is the difference between a lacquer polis...</td>\n",
              "      <td>Marbles in marble dispenser get stuck trying t...</td>\n",
              "      <td>Table saw blade width</td>\n",
              "      <td>What type of joint should I use while building...</td>\n",
              "      <td>Can I build a vanity, or am I in over my head?</td>\n",
              "      <td>How do you interlock 2 pieces of plywood</td>\n",
              "      <td>How can I make tongue and groove cuts with onl...</td>\n",
              "      <td>What types of businesses have tree roots avail...</td>\n",
              "      <td>How can I ensure precise alignment of wooden p...</td>\n",
              "      <td>How do I make this Raspberry Pi box?</td>\n",
              "      <td>what is the woodworking technique used to buil...</td>\n",
              "      <td>How can wood be bent this way?</td>\n",
              "      <td>How can I cut/route a small, straight slot thr...</td>\n",
              "      <td>What kinds of wood are suitable for laser cutt...</td>\n",
              "      <td>Is it possible to reduce a 1\" thick board to 1...</td>\n",
              "      <td>How can I shave about 1/8\" from a 8'x3/4\"x1 1/...</td>\n",
              "      <td>Should I use a hammer or a mallet when driving...</td>\n",
              "      <td>What are these metal fittings called?</td>\n",
              "      <td>Understanding how to read bevel cuts in woodwo...</td>\n",
              "      <td>How can I trim veneer edging?</td>\n",
              "      <td>How can I make trapezoid-shaped wood board (be...</td>\n",
              "      <td>Is there software that can optimally determine...</td>\n",
              "      <td>Where can I find the RAS131 dust hood for a Sk...</td>\n",
              "      <td>How to store my pliers and wire cutters on my ...</td>\n",
              "      <td>How much power should I run to my workshop?</td>\n",
              "      <td>double power point with extra switch</td>\n",
              "      <td>How to fix this bench vise that has a missing ...</td>\n",
              "      <td>What size circuit breaker do I need?</td>\n",
              "      <td>Can I use a shop-vac for dust collection in a ...</td>\n",
              "      <td>Should pegboard be part of the workbench or at...</td>\n",
              "      <td>What would be the best configuration for caste...</td>\n",
              "      <td>how to drain a specific heating zone?</td>\n",
              "    </tr>\n",
              "    <tr>\n",
              "      <th>context</th>\n",
              "      <td>I have a new champion generator, 120volt at 20...</td>\n",
              "      <td>I was wondering if I could run 120v wires insi...</td>\n",
              "      <td>Situation: replaced dishwasher. Turned off the...</td>\n",
              "      <td>I'm running a double circuit breaker from the ...</td>\n",
              "      <td>I'm in the US.\\nI will be installing a 240v ou...</td>\n",
              "      <td>I am planning on adding a server to one of the...</td>\n",
              "      <td>I'm installing an RV pedestal at my home. Out-...</td>\n",
              "      <td>I have a multi wire branch circuit using two 2...</td>\n",
              "      <td>This cabin is located in the United States, an...</td>\n",
              "      <td>I have a 240 volt dryer currently, and I want ...</td>\n",
              "      <td>I am trying to determine the best way possible...</td>\n",
              "      <td>While I was searching for duplex receptacles w...</td>\n",
              "      <td>If an appliance that is rated for 220V is used...</td>\n",
              "      <td>I am having my main circuit breaker panel repl...</td>\n",
              "      <td>I have a 240 volt 20 amp GFCI circuit breaker ...</td>\n",
              "      <td>The breaker panel is on the outside wall, righ...</td>\n",
              "      <td>I want to add a branch circuit to the control ...</td>\n",
              "      <td>The national electrical supply company of Mexi...</td>\n",
              "      <td>I currently have a 12A EVSE that takes either ...</td>\n",
              "      <td>I found some similar questions but given possi...</td>\n",
              "      <td>i am a home brewer and have recently purchased...</td>\n",
              "      <td>This is how my subpanel looks like. I am looki...</td>\n",
              "      <td>I have a two pole breaker with three black wir...</td>\n",
              "      <td>I have 3 wire ( black, white,green) 240 on a d...</td>\n",
              "      <td>I have a 240 volt breaker in my main breaker p...</td>\n",
              "      <td>I purchased a 220 V outlet and didn't realize ...</td>\n",
              "      <td>The oven in question states 40A with 120/240 v...</td>\n",
              "      <td>I've got a 4 wire 240 volt receptacle set up t...</td>\n",
              "      <td>I'm planning to purchase a portable indoor inf...</td>\n",
              "      <td>I have a weird setup that I'm trying to config...</td>\n",
              "      <td>We are living on an island where the electrica...</td>\n",
              "      <td>My garage has very limited power with only one...</td>\n",
              "      <td>I have a 5kW appliance that normally accepts 3...</td>\n",
              "      <td>I would like to wall-mount my TV and have the ...</td>\n",
              "      <td>My electrician wired a single bulb light fixtu...</td>\n",
              "      <td>I recently moved into an apartment with a 3-pr...</td>\n",
              "      <td>We currently have 240 high bay metal halide li...</td>\n",
              "      <td>So I have a ventless dryer, and it's a relativ...</td>\n",
              "      <td>From a double pole 20-amp breaker, I ran 12/3 ...</td>\n",
              "      <td>I want to replace my electric water heater wit...</td>\n",
              "      <td>...</td>\n",
              "      <td>building a shelf to go over my washer dryer in...</td>\n",
              "      <td>I bought bar stool chairs but they are too sho...</td>\n",
              "      <td>I want to make a round wishing well. I have 12...</td>\n",
              "      <td>I'm making wooden trivets (using hard woods) t...</td>\n",
              "      <td>Want to improve this question? Add details and...</td>\n",
              "      <td>What is the recommended distance between brack...</td>\n",
              "      <td>I'm starting a project where I need to cut a 1...</td>\n",
              "      <td>I'm totally new to woodworking (cabinetry, to ...</td>\n",
              "      <td>I have got this bottle of wood polish (an Indi...</td>\n",
              "      <td>I've been working on a marble dispenser for th...</td>\n",
              "      <td>I need to make a straight slot cut with my 10\"...</td>\n",
              "      <td>I'm building a trophy. It will consist of two ...</td>\n",
              "      <td>I need to replace a vanity.\\nIt's a generic 3 ...</td>\n",
              "      <td>What is it called when you cut 2 grooves in pl...</td>\n",
              "      <td>I'm pretty new to woodworking and I don't have...</td>\n",
              "      <td>I'm looking for some tree roots to make some c...</td>\n",
              "      <td>I am building a CNC machine (don't need to kno...</td>\n",
              "      <td>I found this gorgeous laser-cut box on Amazon ...</td>\n",
              "      <td>I'm interested in building a side table simila...</td>\n",
              "      <td>I am working on a DIY wood project and want to...</td>\n",
              "      <td>While I'd like to keep this question as generi...</td>\n",
              "      <td>I want to know what kind of wood material shou...</td>\n",
              "      <td>I have some project plans. Most of the project...</td>\n",
              "      <td>I attached a 8'x3/4\"x1 1/2\" strip of red oak t...</td>\n",
              "      <td>I'm planning to install a lock into a wooden d...</td>\n",
              "      <td>On the amazing The Fletcher Capstan Table vide...</td>\n",
              "      <td>I'm new to woodworking and I have started a pr...</td>\n",
              "      <td>I've been applying some adhesive-backed veneer...</td>\n",
              "      <td>The reason why I want this is somewhat difficu...</td>\n",
              "      <td>I want to build some porch planters out of she...</td>\n",
              "      <td>I have been searching for a dust-collection de...</td>\n",
              "      <td>I have a set of tools I use on my desk that ar...</td>\n",
              "      <td>I have a work shop currently powered with a 20...</td>\n",
              "      <td>How do I wire a  Deta double power point with ...</td>\n",
              "      <td>I have a bench vise that is missing the piece ...</td>\n",
              "      <td>I am wiring a workshop in my backyard. I ran 4...</td>\n",
              "      <td>I have a small workshop with a palm sander and...</td>\n",
              "      <td>Is it better to buy a workbench with the pegbo...</td>\n",
              "      <td>I'm planning to build a movable workbench and ...</td>\n",
              "      <td>I have hot water baseboard heating, with three...</td>\n",
              "    </tr>\n",
              "    <tr>\n",
              "      <th>upvotes</th>\n",
              "      <td>0</td>\n",
              "      <td>1</td>\n",
              "      <td>1</td>\n",
              "      <td>0</td>\n",
              "      <td>2</td>\n",
              "      <td>2</td>\n",
              "      <td>0</td>\n",
              "      <td>0</td>\n",
              "      <td>8</td>\n",
              "      <td>2</td>\n",
              "      <td>1</td>\n",
              "      <td>5</td>\n",
              "      <td>4</td>\n",
              "      <td>14</td>\n",
              "      <td>1</td>\n",
              "      <td>0</td>\n",
              "      <td>0</td>\n",
              "      <td>7</td>\n",
              "      <td>1</td>\n",
              "      <td>0</td>\n",
              "      <td>0</td>\n",
              "      <td>3</td>\n",
              "      <td>1</td>\n",
              "      <td>0</td>\n",
              "      <td>0</td>\n",
              "      <td>15</td>\n",
              "      <td>7</td>\n",
              "      <td>0</td>\n",
              "      <td>3</td>\n",
              "      <td>4</td>\n",
              "      <td>0</td>\n",
              "      <td>0</td>\n",
              "      <td>0</td>\n",
              "      <td>2</td>\n",
              "      <td>0</td>\n",
              "      <td>16</td>\n",
              "      <td>0</td>\n",
              "      <td>5</td>\n",
              "      <td>2</td>\n",
              "      <td>0</td>\n",
              "      <td>...</td>\n",
              "      <td>1</td>\n",
              "      <td>1</td>\n",
              "      <td>1</td>\n",
              "      <td>1</td>\n",
              "      <td>-1</td>\n",
              "      <td>0</td>\n",
              "      <td>2</td>\n",
              "      <td>1</td>\n",
              "      <td>2</td>\n",
              "      <td>2</td>\n",
              "      <td>0</td>\n",
              "      <td>3</td>\n",
              "      <td>6</td>\n",
              "      <td>4</td>\n",
              "      <td>1</td>\n",
              "      <td>1</td>\n",
              "      <td>4</td>\n",
              "      <td>2</td>\n",
              "      <td>4</td>\n",
              "      <td>2</td>\n",
              "      <td>4</td>\n",
              "      <td>1</td>\n",
              "      <td>3</td>\n",
              "      <td>3</td>\n",
              "      <td>3</td>\n",
              "      <td>5</td>\n",
              "      <td>4</td>\n",
              "      <td>4</td>\n",
              "      <td>3</td>\n",
              "      <td>2</td>\n",
              "      <td>1</td>\n",
              "      <td>11</td>\n",
              "      <td>2</td>\n",
              "      <td>0</td>\n",
              "      <td>0</td>\n",
              "      <td>0</td>\n",
              "      <td>7</td>\n",
              "      <td>2</td>\n",
              "      <td>1</td>\n",
              "      <td>0</td>\n",
              "    </tr>\n",
              "    <tr>\n",
              "      <th>tags</th>\n",
              "      <td>[120-240v]</td>\n",
              "      <td>[wiring, conduit, 120-240v]</td>\n",
              "      <td>[electrical, wiring, electrical-panel, 120-240v]</td>\n",
              "      <td>[wiring, shed, 120-240v]</td>\n",
              "      <td>[electrical, electrical-panel, 240v, 120-240v]</td>\n",
              "      <td>[electrical, wiring, receptacle, 120-240v]</td>\n",
              "      <td>[electrical, electrical-panel, receptacle, cod...</td>\n",
              "      <td>[electrical, wiring, gfci, 120-240v]</td>\n",
              "      <td>[electrical, wiring, electrical-panel, recepta...</td>\n",
              "      <td>[dryer, gas, 240v, 120-240v]</td>\n",
              "      <td>[electrical, electrical-panel, subpanel, 120-2...</td>\n",
              "      <td>[electrical, receptacle, 240v, 120-240v]</td>\n",
              "      <td>[electrical, transformer, 120-240v]</td>\n",
              "      <td>[electrical, wiring, 120-240v, usa]</td>\n",
              "      <td>[circuit-breaker, 120-240v]</td>\n",
              "      <td>[electrical, code-compliance, garage, 120-240v]</td>\n",
              "      <td>[electrical, receptacle, 120-240v, mwbc]</td>\n",
              "      <td>[electrical, electrical-panel, circuit-breaker...</td>\n",
              "      <td>[electrical, receptacle, 240v, 120-240v]</td>\n",
              "      <td>[electrical, wiring, 240v, 120-240v]</td>\n",
              "      <td>[gfci, 120-240v]</td>\n",
              "      <td>[hvac, subpanel, 240v, 120-240v]</td>\n",
              "      <td>[wiring, circuit-breaker, 120-240v]</td>\n",
              "      <td>[electrical, circuit-breaker, 120-240v]</td>\n",
              "      <td>[120-240v]</td>\n",
              "      <td>[electrical, wiring, receptacle, 120-240v]</td>\n",
              "      <td>[electrical, wiring, 120-240v]</td>\n",
              "      <td>[120-240v]</td>\n",
              "      <td>[electrical-panel, 120-240v]</td>\n",
              "      <td>[electrical-panel, subpanel, 120-240v]</td>\n",
              "      <td>[electrical, dryer, 240v, 120-240v]</td>\n",
              "      <td>[wiring, subpanel, powertools, neutral, 120-240v]</td>\n",
              "      <td>[electrical, 240v, 120-240v]</td>\n",
              "      <td>[electrical, code-compliance, low-voltage, tel...</td>\n",
              "      <td>[electrical, wiring, 240v, 120-240v]</td>\n",
              "      <td>[electrical, dryer, 240v, 120-240v]</td>\n",
              "      <td>[electrical, wiring, 120-240v]</td>\n",
              "      <td>[electrical, receptacle, dryer, washing-machin...</td>\n",
              "      <td>[electrical, wiring, inspection, 120-240v, mwbc]</td>\n",
              "      <td>[receptacle, hot-water, 120-240v]</td>\n",
              "      <td>...</td>\n",
              "      <td>[woodworking]</td>\n",
              "      <td>[woodworking]</td>\n",
              "      <td>[woodworking]</td>\n",
              "      <td>[woodworking]</td>\n",
              "      <td>[woodworking]</td>\n",
              "      <td>[woodworking]</td>\n",
              "      <td>[woodworking]</td>\n",
              "      <td>[woodworking]</td>\n",
              "      <td>[woodworking]</td>\n",
              "      <td>[woodworking]</td>\n",
              "      <td>[woodworking]</td>\n",
              "      <td>[woodworking]</td>\n",
              "      <td>[woodworking]</td>\n",
              "      <td>[woodworking]</td>\n",
              "      <td>[woodworking]</td>\n",
              "      <td>[woodworking]</td>\n",
              "      <td>[woodworking]</td>\n",
              "      <td>[woodworking]</td>\n",
              "      <td>[woodworking]</td>\n",
              "      <td>[woodworking]</td>\n",
              "      <td>[woodworking]</td>\n",
              "      <td>[woodworking]</td>\n",
              "      <td>[woodworking]</td>\n",
              "      <td>[woodworking]</td>\n",
              "      <td>[woodworking]</td>\n",
              "      <td>[woodworking]</td>\n",
              "      <td>[woodworking]</td>\n",
              "      <td>[woodworking]</td>\n",
              "      <td>[woodworking]</td>\n",
              "      <td>[woodworking]</td>\n",
              "      <td>[woodworking]</td>\n",
              "      <td>[workshop]</td>\n",
              "      <td>[workshop]</td>\n",
              "      <td>[workshop]</td>\n",
              "      <td>[workshop]</td>\n",
              "      <td>[workshop]</td>\n",
              "      <td>[workshop]</td>\n",
              "      <td>[workshop]</td>\n",
              "      <td>[workshop]</td>\n",
              "      <td>[zoned-heating]</td>\n",
              "    </tr>\n",
              "    <tr>\n",
              "      <th>q_user_edit_time</th>\n",
              "      <td>2020-09-26 18:23:53Z</td>\n",
              "      <td>2020-09-25 13:41:17Z</td>\n",
              "      <td></td>\n",
              "      <td></td>\n",
              "      <td>2020-09-07 00:35:12Z</td>\n",
              "      <td>2020-09-03 13:52:52Z</td>\n",
              "      <td></td>\n",
              "      <td>2020-08-16 00:26:10Z</td>\n",
              "      <td>2020-07-31 21:14:51Z</td>\n",
              "      <td></td>\n",
              "      <td></td>\n",
              "      <td></td>\n",
              "      <td>2020-02-06 02:46:13Z</td>\n",
              "      <td></td>\n",
              "      <td>2019-11-06 00:30:45Z</td>\n",
              "      <td>2019-10-13 01:06:50Z</td>\n",
              "      <td>2019-10-09 03:09:39Z</td>\n",
              "      <td>2020-06-16 10:07:27Z</td>\n",
              "      <td>2019-09-24 18:25:26Z</td>\n",
              "      <td></td>\n",
              "      <td>2019-08-18 04:08:20Z</td>\n",
              "      <td></td>\n",
              "      <td>2019-07-14 06:16:22Z</td>\n",
              "      <td>2019-06-29 02:46:39Z</td>\n",
              "      <td></td>\n",
              "      <td>2019-06-11 18:22:52Z</td>\n",
              "      <td>2019-05-30 15:25:41Z</td>\n",
              "      <td></td>\n",
              "      <td></td>\n",
              "      <td>2019-02-15 20:20:27Z</td>\n",
              "      <td>2019-01-26 17:16:48Z</td>\n",
              "      <td>2019-01-03 14:17:19Z</td>\n",
              "      <td></td>\n",
              "      <td></td>\n",
              "      <td>2018-11-07 20:51:03Z</td>\n",
              "      <td>2018-10-29 23:36:44Z</td>\n",
              "      <td>2018-09-07 00:41:06Z</td>\n",
              "      <td>2018-08-24 21:40:00Z</td>\n",
              "      <td></td>\n",
              "      <td></td>\n",
              "      <td>...</td>\n",
              "      <td>2015-08-28 13:28:43Z</td>\n",
              "      <td></td>\n",
              "      <td>2015-05-21 13:31:37Z</td>\n",
              "      <td></td>\n",
              "      <td>2015-04-13 16:53:24Z</td>\n",
              "      <td></td>\n",
              "      <td></td>\n",
              "      <td></td>\n",
              "      <td></td>\n",
              "      <td></td>\n",
              "      <td></td>\n",
              "      <td>2014-08-20 10:34:34Z</td>\n",
              "      <td></td>\n",
              "      <td></td>\n",
              "      <td>2013-12-04 17:36:49Z</td>\n",
              "      <td>2013-10-26 02:23:21Z</td>\n",
              "      <td>2013-10-24 21:34:02Z</td>\n",
              "      <td>2013-10-20 01:43:33Z</td>\n",
              "      <td>2013-09-01 04:07:43Z</td>\n",
              "      <td>2013-08-07 07:48:44Z</td>\n",
              "      <td>2013-06-14 21:05:32Z</td>\n",
              "      <td>2013-04-30 02:25:38Z</td>\n",
              "      <td>2013-02-22 18:02:32Z</td>\n",
              "      <td></td>\n",
              "      <td>2012-11-16 12:03:47Z</td>\n",
              "      <td></td>\n",
              "      <td></td>\n",
              "      <td>2012-07-26 11:36:28Z</td>\n",
              "      <td>2012-01-25 02:01:43Z</td>\n",
              "      <td>2012-01-14 18:08:04Z</td>\n",
              "      <td></td>\n",
              "      <td></td>\n",
              "      <td>2019-02-10 01:44:48Z</td>\n",
              "      <td></td>\n",
              "      <td>2016-01-05 00:32:57Z</td>\n",
              "      <td></td>\n",
              "      <td>2017-04-13 12:22:12Z</td>\n",
              "      <td></td>\n",
              "      <td>2011-11-22 18:11:24Z</td>\n",
              "      <td></td>\n",
              "    </tr>\n",
              "  </tbody>\n",
              "</table>\n",
              "<p>5 rows × 56431 columns</p>\n",
              "</div>"
            ],
            "text/plain": [
              "                 https://diy.stackexchange.com/questions/204261/i-have-a-champion-120v-generator-i-want-to-use-it-to-plug-into-a-preinstalled-w  ... https://diy.stackexchange.com/questions/202571/how-to-drain-a-specific-heating-zone\n",
              "question          I have a Champion 120V generator, I want to us...                                                                              ...              how to drain a specific heating zone?                                 \n",
              "context           I have a new champion generator, 120volt at 20...                                                                              ...  I have hot water baseboard heating, with three...                                 \n",
              "upvotes                                                           0                                                                              ...                                                  0                                 \n",
              "tags                                                     [120-240v]                                                                              ...                                    [zoned-heating]                                 \n",
              "q_user_edit_time                               2020-09-26 18:23:53Z                                                                              ...                                                                                    \n",
              "\n",
              "[5 rows x 56431 columns]"
            ]
          },
          "metadata": {},
          "execution_count": 8
        }
      ]
    },
    {
      "cell_type": "code",
      "metadata": {
        "id": "HNBDhjSH_o1C"
      },
      "source": [
        "df = df.T"
      ],
      "execution_count": null,
      "outputs": []
    },
    {
      "cell_type": "code",
      "metadata": {
        "id": "kj3pIBgF_o4F"
      },
      "source": [
        "df = df.reset_index()"
      ],
      "execution_count": null,
      "outputs": []
    },
    {
      "cell_type": "code",
      "metadata": {
        "id": "u8YD8ZGs_o84"
      },
      "source": [
        "df = df.drop(df.columns[0], axis=1)"
      ],
      "execution_count": null,
      "outputs": []
    },
    {
      "cell_type": "code",
      "metadata": {
        "colab": {
          "base_uri": "https://localhost:8080/",
          "height": 204
        },
        "id": "v7YlW9zy_pA7",
        "outputId": "88df9386-9618-4c71-af6d-33b276ad32cf"
      },
      "source": [
        "df.drop(df.columns[[ 1, 2, 4, 5, 6, 7, 8, 9]], axis = 1, inplace = True)\n",
        "df.head()"
      ],
      "execution_count": null,
      "outputs": [
        {
          "output_type": "execute_result",
          "data": {
            "text/html": [
              "<div>\n",
              "<style scoped>\n",
              "    .dataframe tbody tr th:only-of-type {\n",
              "        vertical-align: middle;\n",
              "    }\n",
              "\n",
              "    .dataframe tbody tr th {\n",
              "        vertical-align: top;\n",
              "    }\n",
              "\n",
              "    .dataframe thead th {\n",
              "        text-align: right;\n",
              "    }\n",
              "</style>\n",
              "<table border=\"1\" class=\"dataframe\">\n",
              "  <thead>\n",
              "    <tr style=\"text-align: right;\">\n",
              "      <th></th>\n",
              "      <th>question</th>\n",
              "      <th>tags</th>\n",
              "    </tr>\n",
              "  </thead>\n",
              "  <tbody>\n",
              "    <tr>\n",
              "      <th>0</th>\n",
              "      <td>I have a Champion 120V generator, I want to us...</td>\n",
              "      <td>[120-240v]</td>\n",
              "    </tr>\n",
              "    <tr>\n",
              "      <th>1</th>\n",
              "      <td>Can I run conduit containing 120V wires inside...</td>\n",
              "      <td>[wiring, conduit, 120-240v]</td>\n",
              "    </tr>\n",
              "    <tr>\n",
              "      <th>2</th>\n",
              "      <td>30V on 120 circuit - swapped dishwashers and c...</td>\n",
              "      <td>[electrical, wiring, electrical-panel, 120-240v]</td>\n",
              "    </tr>\n",
              "    <tr>\n",
              "      <th>3</th>\n",
              "      <td>How much 120 from 240 is too much?</td>\n",
              "      <td>[wiring, shed, 120-240v]</td>\n",
              "    </tr>\n",
              "    <tr>\n",
              "      <th>4</th>\n",
              "      <td>Is it possible to wire a 240v outlet so that a...</td>\n",
              "      <td>[electrical, electrical-panel, 240v, 120-240v]</td>\n",
              "    </tr>\n",
              "  </tbody>\n",
              "</table>\n",
              "</div>"
            ],
            "text/plain": [
              "                                            question                                              tags\n",
              "0  I have a Champion 120V generator, I want to us...                                        [120-240v]\n",
              "1  Can I run conduit containing 120V wires inside...                       [wiring, conduit, 120-240v]\n",
              "2  30V on 120 circuit - swapped dishwashers and c...  [electrical, wiring, electrical-panel, 120-240v]\n",
              "3                 How much 120 from 240 is too much?                          [wiring, shed, 120-240v]\n",
              "4  Is it possible to wire a 240v outlet so that a...    [electrical, electrical-panel, 240v, 120-240v]"
            ]
          },
          "metadata": {},
          "execution_count": 12
        }
      ]
    },
    {
      "cell_type": "code",
      "metadata": {
        "colab": {
          "base_uri": "https://localhost:8080/"
        },
        "id": "8axdHUhb9n6O",
        "outputId": "d905ada6-5ad3-41cd-f098-3c6337faea97"
      },
      "source": [
        "df.info()"
      ],
      "execution_count": null,
      "outputs": [
        {
          "output_type": "stream",
          "name": "stdout",
          "text": [
            "<class 'pandas.core.frame.DataFrame'>\n",
            "RangeIndex: 56431 entries, 0 to 56430\n",
            "Data columns (total 2 columns):\n",
            " #   Column    Non-Null Count  Dtype \n",
            "---  ------    --------------  ----- \n",
            " 0   question  56431 non-null  object\n",
            " 1   tags      56431 non-null  object\n",
            "dtypes: object(2)\n",
            "memory usage: 881.9+ KB\n"
          ]
        }
      ]
    },
    {
      "cell_type": "code",
      "metadata": {
        "id": "ArOW4oqIAMj0"
      },
      "source": [
        "from ast import literal_eval\n",
        "df['tags'] = df.tags.apply(lambda x: literal_eval(str(x)))"
      ],
      "execution_count": null,
      "outputs": []
    },
    {
      "cell_type": "code",
      "metadata": {
        "id": "1LCSOLySR7n5"
      },
      "source": [
        "df[['cat1','cat2' ,'cat3' , 'cat4' , 'cat5']] = pd.DataFrame(df.tags.tolist(), index= df.index)"
      ],
      "execution_count": null,
      "outputs": []
    },
    {
      "cell_type": "code",
      "metadata": {
        "colab": {
          "base_uri": "https://localhost:8080/",
          "height": 204
        },
        "id": "-wJ1VIN1R7ys",
        "outputId": "99c033d0-64cf-4ce3-bc0a-8f5563435e0d"
      },
      "source": [
        "df.head(5)"
      ],
      "execution_count": null,
      "outputs": [
        {
          "output_type": "execute_result",
          "data": {
            "text/html": [
              "<div>\n",
              "<style scoped>\n",
              "    .dataframe tbody tr th:only-of-type {\n",
              "        vertical-align: middle;\n",
              "    }\n",
              "\n",
              "    .dataframe tbody tr th {\n",
              "        vertical-align: top;\n",
              "    }\n",
              "\n",
              "    .dataframe thead th {\n",
              "        text-align: right;\n",
              "    }\n",
              "</style>\n",
              "<table border=\"1\" class=\"dataframe\">\n",
              "  <thead>\n",
              "    <tr style=\"text-align: right;\">\n",
              "      <th></th>\n",
              "      <th>question</th>\n",
              "      <th>tags</th>\n",
              "      <th>cat1</th>\n",
              "      <th>cat2</th>\n",
              "      <th>cat3</th>\n",
              "      <th>cat4</th>\n",
              "      <th>cat5</th>\n",
              "    </tr>\n",
              "  </thead>\n",
              "  <tbody>\n",
              "    <tr>\n",
              "      <th>0</th>\n",
              "      <td>I have a Champion 120V generator, I want to us...</td>\n",
              "      <td>[120-240v]</td>\n",
              "      <td>120-240v</td>\n",
              "      <td>None</td>\n",
              "      <td>None</td>\n",
              "      <td>None</td>\n",
              "      <td>None</td>\n",
              "    </tr>\n",
              "    <tr>\n",
              "      <th>1</th>\n",
              "      <td>Can I run conduit containing 120V wires inside...</td>\n",
              "      <td>[wiring, conduit, 120-240v]</td>\n",
              "      <td>wiring</td>\n",
              "      <td>conduit</td>\n",
              "      <td>120-240v</td>\n",
              "      <td>None</td>\n",
              "      <td>None</td>\n",
              "    </tr>\n",
              "    <tr>\n",
              "      <th>2</th>\n",
              "      <td>30V on 120 circuit - swapped dishwashers and c...</td>\n",
              "      <td>[electrical, wiring, electrical-panel, 120-240v]</td>\n",
              "      <td>electrical</td>\n",
              "      <td>wiring</td>\n",
              "      <td>electrical-panel</td>\n",
              "      <td>120-240v</td>\n",
              "      <td>None</td>\n",
              "    </tr>\n",
              "    <tr>\n",
              "      <th>3</th>\n",
              "      <td>How much 120 from 240 is too much?</td>\n",
              "      <td>[wiring, shed, 120-240v]</td>\n",
              "      <td>wiring</td>\n",
              "      <td>shed</td>\n",
              "      <td>120-240v</td>\n",
              "      <td>None</td>\n",
              "      <td>None</td>\n",
              "    </tr>\n",
              "    <tr>\n",
              "      <th>4</th>\n",
              "      <td>Is it possible to wire a 240v outlet so that a...</td>\n",
              "      <td>[electrical, electrical-panel, 240v, 120-240v]</td>\n",
              "      <td>electrical</td>\n",
              "      <td>electrical-panel</td>\n",
              "      <td>240v</td>\n",
              "      <td>120-240v</td>\n",
              "      <td>None</td>\n",
              "    </tr>\n",
              "  </tbody>\n",
              "</table>\n",
              "</div>"
            ],
            "text/plain": [
              "                                            question  ...  cat5\n",
              "0  I have a Champion 120V generator, I want to us...  ...  None\n",
              "1  Can I run conduit containing 120V wires inside...  ...  None\n",
              "2  30V on 120 circuit - swapped dishwashers and c...  ...  None\n",
              "3                 How much 120 from 240 is too much?  ...  None\n",
              "4  Is it possible to wire a 240v outlet so that a...  ...  None\n",
              "\n",
              "[5 rows x 7 columns]"
            ]
          },
          "metadata": {},
          "execution_count": 17
        }
      ]
    },
    {
      "cell_type": "code",
      "metadata": {
        "id": "ogi9KJVuOtPI"
      },
      "source": [
        "dict = {'electrical' : ['conductors', 'nec', 'splicing', 'socket',\t'multiway-switch',\t'dimmer-switch',\t'switch', 'testing', 'troubleshooting', 'electric-vehicle', 'inverter', 'relay', 'motor', 'inspection', 'outlets', 'transfer-switch', 'neutral' , 'timer', 'weather-resistant', 'welding', 'utilities', 'capacitor', 'generator', 'power-backup' ,'afci', 'service' , 'electrical-panel', 'gfci', 'extension-cord', 'receptacle' ,'circuit-breaker' ,'circuit' ,'conduit' ,'breaker-box' ,'code-compliance' ,'subpanel' ,'junction-box' ,'distribution-board' ,'rewire' ,'cable-management' ,'junction' ,'electric-motor','transformer', 'electrical-distribution' ,'fuse-breaker ','electric-fence' ,'surge-suppression','circuit', '240v' ,'voltage' ,'low-voltage' ,'cord-and-plug' ,'connectors' ,'electronics' ,'extension ','adapter' ,'mwbc' ,'thermocouple' ,'splices' ,'120-240v' ,'grounding' ,'ground' ,'bonding' ,'grounding-and-bonding ','resistance' ,'ups' ,'lightning' ],\n",
        "        'hvac' : ['condensate', 'condensation', 'register', 'radiant-heating', 'heat', 'central-air', 'carrier', 'ductwork', 'temperature', 'lennox', 'hydronic', 'air-compressor','compressor', 'zoned-heating', 'humidity', 'water-circulating-heating','ventilation', 'exhaust-fan', 'air-conditioning' ,'air', 'dehumidifier', 'central-heating', 'cooling', 'heater', 'thermostat-c-wire', 'thermostat', 'aquastat', 'exhaust-vent', 'air-conditioner','evaporative-cooling', 'ducts','electric-heat','heat-pump' ],\n",
        "       'plumbing': ['plumbing-fixture', 'water-pressure',\t'septic',\t'outdoorfaucet',\t'sump',\t'spout',\t'rough-in' ,\t'galvanic-corrosion' ,\t'downspout ',\t'vanity '\t,'freezing',\t'irrigation',\t'laundry',\t'cartridge',\t'blockage',\t'rubber' ,\t'pressure' ,\t'shutoff',\t'water-tank' ,\t'chemicals' ,\t'overflow',\t'clog ',\t'backflow-preventer',\t'venting'\t,'well-pump','\tcpvc' ,\t'taps' ,\t'spigot',\t'abs' ,\t'septic-tanks', '\tplumbing-fixture' ,\t'pex' ,\t'pipe' ,\t'sink' ,\t'drainage' ,\t'pump' ,\t'sewer'\t'vent' ,\t'drain-waste-vent' ,\t'cistern'\t'faucet',\t'gutters',\t'drains' ,\t'drain' ,\t'valve' ,'saddle-valve' , 'hose' ,\t'p-trap' ,\t'water-hammer' ,\t'pond' ,\t'water' ,\t'odors','\tfrench-drain' ,\t'sump-pump'],\n",
        "        'wiring' : ['cables',\t'coaxial-cable' ,\t'knobs',\t'wire ',\t'phone-wiring' ,\t'data-wiring ',\t'cable-management' ,\t'knob-and-tube' ,\t'aluminum-wiring' ,\t'coax'],\n",
        "        'lighting': ['lamp' ,\t'bulb ',\t'halogen' ,\t'light-fixture',\t'retrofit' ,\t'recessed-lighting' ,\t'light' ,\t'pole',\t'skylight', 'led',\t'cfl',\t'fluorescent',\t'lamp-tombstone' ,\t'ballast'],\n",
        "       ' walls' :['load-bearing' ,\t'damp-proof-course' ,\t'drywall' ,\t'render' ,\t'rope-knots',\t'hanging',\t'mount' ,\t'retaining-wall' ,\t'drywall-anchor',\t'patching-drywall',\t'access-panel',\t'taping',\t'mudding ',\t'drywall-mud ',\t'wallpaper',\t'mounting' ,\t'load '],\n",
        "        'materials' : ['ledger',\t'stucco' ,\t'pvc' ,\t'glue' ,\t'duct-tape' ,\t'polyurethane' ,\t'adhesive' ,\t'porcelain',\t'spackling-paste',\t'asphalt',\t'stone' ,\t'limestone' ,\t'quartz' ,\t'sealer ',\t'grout' ,\t'studs',\t'acrylic' ,\t'brick' ,\t'steel' ,\t'glass' ,\t'fiberglass' ,'vinyl-siding' ,\t'siding' ,\t'stainless' ,\t'sheet-metal' ,\t'slate' ,'soil ',\t'corner-bead' ,\t'mosaic' ,\t'rock' ,\t'cast-iron' ,\t'porcelain' ,\t'gravel' \t,'sealant' ,\t'metal' ,\t'cement' ,\t'pavers' ,\t'sander' ,\t'copper' ,\t'lumber' ,\t'plastic' ,\t'joists' ,\t'frame' ,\t'aluminum' ,\t'granite',\t'tape' ,\t'epoxy'\t,'copper-tubing' ,\t'thinset' ,\t'backer-board' ,\t'particle-board' ,'marble' ,'concrete' ,\t'silicone' ,\t'board '],\n",
        "         'exterior-maintenance' : ['play-structures' ,\t'pergola',\t'walkway' ,\t'carport' ,\t'gable' ,\t'chimney' ,'sidewalk',\t'metal-roof',\t'recycling' ,\t'roofing ' ,\t'moss' ,\t'roof' ,\t'disposal' ,\t'deck' ,\t'garbage-disposal' ,\t'pool' ,\t'trash-can' ,\t'fascia' ,\t'driveway'\t,'gate-post' ,\t'landscaping' ,\t'fence' ,'shed' ,\t'grass' ,\t'gardening' ,\t'railing' ,\t'outdoor' ,\t'ceiling' ,\t'foundation'],\n",
        "        'interior-maintenance ' :['floor ',\t'steps' ,\t'stairs' ,\t'slab' ,\t'column' ,\t'backsplash' ,\t'beam' ,\t'furnace',\t'fire-pit' ,\t'popcorn' ,\t'hearth' ,\t'fireplace' ,\t'frost ' ,\t'frost-heave' ,\t'stuck' ,\t'trim' ,\t'trim-carpentry' ,\t'maintenance'],\n",
        "      'appliances' :  ['fridge',\t'blower' ,\t'clothes-washer' ,\t'ductless' ,\t'hot-water' ,\t'television' ,\t'tv-antenna' ,\t'air-filter' ,\t'oven' ,\t'refrigerator','washing-machine' ,\t'boiler' ,\t'ice-maker' ,\t'washer' ,\t'dryer',\t'range' ,\t'woodstove' ,\t'stove' ,\t'angle-grinder' ,\t'microwave-oven' ,\t'fridge' ,\t'microhood',\t'mini-split' ,'exhaust' ,\t'blower',\t'water-softener' ],\n",
        "       'hardware-tools' : ['motion-sensor','tools','hardware',\t'joinery ',\t'rivets' ,\t'angle-grinder' ,\t'threading',\t'excavator' ,\t'radon' ,\t'multimeter' ,\t'bolts' ,\t'bits' ,\t'tongue-and-groove' ,\t'drill' ,'shingles ',\t'gauge ',\t'nails' ,\t'grinder' ,\t'lawn-mower' ,\t'screwdriver' ,\t'screws' ,\t'ball-bearing' ,\t'radiator' ,\t'fastener' ,\t'framing-fasteners' ,\t'fastening' ,\t'powertools' ,\t'hinges' ,\t'hand-tools' ,\t'deadbolt' ,\t'multimeter' ,\t'measuring ',\t'yard-hydrant' \t'pressure-washer' ,\t'indicator' ,\t'angle' ,\t'lathe ' , 'regulator' ,\t'flange', 'circular-saw' ,\t'bandsaw ',\t'table-saw' ,\t'chainsaw' ,\t'miter' , 'saw ', 'ladder', 'mailbox', 'curtain-rail', 'support', 'handrail',\t'magnet',\t'p-trap''solder',\t'meter',\t'soldering',\t'flashing'],\n",
        "        'furniture' :['desk',\t'custom-cabinetry' ,\t'storage '\t'shelving' ,\t'shelf',\t'closet ' ,\t'span-tables' ,\t'drawers'\t'brackets',\t'self-assembly-furniture' ,\t'bench',\t'table' ,'\twooden-furniture',\t'antique',\t'mirror','carpet'],\n",
        "      'safety' : ['child-safety',\t'security',\t'alarm',\t'removal',\t'emergency-preparedness',\t'severe-weather',\t'blocking',\t'water-purification',\t'asbestos',\t'lock',\t'earthquake' ,\t'storm-door' ,\t'shutters',\t'pet-proofing',\t'house-wrap', \t'hurricane-panels',\t'precautions',\t'vapor-barrier',\t'pet-proofing', 'planning',\t'moisture','waterproofing' ,\t'health-and-safety ',\t'cover' ,\t'sheathing' ,\t'protection',\t'rust-proofing',\t'rust' ,\t'smoke-detectors' ,\t'stain-removal' ,\t'rust-removal' ,\t'water-treatment' ,\t'locks' ],\n",
        "      'walls-drywallls' : ['load-bearing', '\tdamp-proof-course',\t'drywall',\t'render',\t'rope-knots',\t'hanging',\t'mount',\t'retaining-wall',\t'drywall-anchor', 'patching-drywall',\t'access-panel',\t'taping',\t'mudding', 'drywall-mud', 'wallpaper',\t'mounting', 'load ' ] ,\n",
        "      'insulation' : ['spray-foam',\t'air-leaks',\t'u-value','\twinterizing',\t'radiant-barrier',\t'noise',\t'sound-deadening', 'sounds',\t'noise-reduction,'\t'sound-proofing',\t'air-sealing', 'sealing', 'seal','caulk', 'caulking','fiberglass', 'winter',\t'acoustic', 'r-value',\t'basement-insulation'\t] }"
      ],
      "execution_count": null,
      "outputs": []
    },
    {
      "cell_type": "code",
      "metadata": {
        "colab": {
          "base_uri": "https://localhost:8080/",
          "height": 204
        },
        "id": "aaLT5XzhBBDq",
        "outputId": "4776ba76-23d3-4e34-e186-4af3a867c108"
      },
      "source": [
        "d = {v_i: k for k, v in dict.items() for v_i in v}\n",
        "df['cat1'] = df['cat1'].map(d).fillna(df['cat1'])\n",
        "df['cat2'] = df['cat2'].map(d).fillna(df['cat2'])\n",
        "df['cat3'] = df['cat3'].map(d).fillna(df['cat3'])\n",
        "df['cat4'] = df['cat4'].map(d).fillna(df['cat4'])\n",
        "df['cat5'] = df['cat5'].map(d).fillna(df['cat5'])\n",
        "\n",
        "df.head(5)"
      ],
      "execution_count": null,
      "outputs": [
        {
          "output_type": "execute_result",
          "data": {
            "text/html": [
              "<div>\n",
              "<style scoped>\n",
              "    .dataframe tbody tr th:only-of-type {\n",
              "        vertical-align: middle;\n",
              "    }\n",
              "\n",
              "    .dataframe tbody tr th {\n",
              "        vertical-align: top;\n",
              "    }\n",
              "\n",
              "    .dataframe thead th {\n",
              "        text-align: right;\n",
              "    }\n",
              "</style>\n",
              "<table border=\"1\" class=\"dataframe\">\n",
              "  <thead>\n",
              "    <tr style=\"text-align: right;\">\n",
              "      <th></th>\n",
              "      <th>question</th>\n",
              "      <th>tags</th>\n",
              "      <th>cat1</th>\n",
              "      <th>cat2</th>\n",
              "      <th>cat3</th>\n",
              "      <th>cat4</th>\n",
              "      <th>cat5</th>\n",
              "    </tr>\n",
              "  </thead>\n",
              "  <tbody>\n",
              "    <tr>\n",
              "      <th>0</th>\n",
              "      <td>I have a Champion 120V generator, I want to us...</td>\n",
              "      <td>[120-240v]</td>\n",
              "      <td>electrical</td>\n",
              "      <td>None</td>\n",
              "      <td>None</td>\n",
              "      <td>None</td>\n",
              "      <td>None</td>\n",
              "    </tr>\n",
              "    <tr>\n",
              "      <th>1</th>\n",
              "      <td>Can I run conduit containing 120V wires inside...</td>\n",
              "      <td>[wiring, conduit, 120-240v]</td>\n",
              "      <td>wiring</td>\n",
              "      <td>electrical</td>\n",
              "      <td>electrical</td>\n",
              "      <td>None</td>\n",
              "      <td>None</td>\n",
              "    </tr>\n",
              "    <tr>\n",
              "      <th>2</th>\n",
              "      <td>30V on 120 circuit - swapped dishwashers and c...</td>\n",
              "      <td>[electrical, wiring, electrical-panel, 120-240v]</td>\n",
              "      <td>electrical</td>\n",
              "      <td>wiring</td>\n",
              "      <td>electrical</td>\n",
              "      <td>electrical</td>\n",
              "      <td>None</td>\n",
              "    </tr>\n",
              "    <tr>\n",
              "      <th>3</th>\n",
              "      <td>How much 120 from 240 is too much?</td>\n",
              "      <td>[wiring, shed, 120-240v]</td>\n",
              "      <td>wiring</td>\n",
              "      <td>exterior-maintenance</td>\n",
              "      <td>electrical</td>\n",
              "      <td>None</td>\n",
              "      <td>None</td>\n",
              "    </tr>\n",
              "    <tr>\n",
              "      <th>4</th>\n",
              "      <td>Is it possible to wire a 240v outlet so that a...</td>\n",
              "      <td>[electrical, electrical-panel, 240v, 120-240v]</td>\n",
              "      <td>electrical</td>\n",
              "      <td>electrical</td>\n",
              "      <td>electrical</td>\n",
              "      <td>electrical</td>\n",
              "      <td>None</td>\n",
              "    </tr>\n",
              "  </tbody>\n",
              "</table>\n",
              "</div>"
            ],
            "text/plain": [
              "                                            question  ...  cat5\n",
              "0  I have a Champion 120V generator, I want to us...  ...  None\n",
              "1  Can I run conduit containing 120V wires inside...  ...  None\n",
              "2  30V on 120 circuit - swapped dishwashers and c...  ...  None\n",
              "3                 How much 120 from 240 is too much?  ...  None\n",
              "4  Is it possible to wire a 240v outlet so that a...  ...  None\n",
              "\n",
              "[5 rows x 7 columns]"
            ]
          },
          "metadata": {},
          "execution_count": 16
        }
      ]
    },
    {
      "cell_type": "code",
      "metadata": {
        "id": "aoZte0mhBBNK"
      },
      "source": [
        "df['categories'] = df[['cat1', 'cat2', 'cat3', 'cat4', 'cat5']].apply(lambda x: ', '.join(x[x.notnull()]), axis = 1)"
      ],
      "execution_count": null,
      "outputs": []
    },
    {
      "cell_type": "code",
      "metadata": {
        "colab": {
          "base_uri": "https://localhost:8080/",
          "height": 289
        },
        "id": "MMYk0pTqBBRg",
        "outputId": "26447ef8-6c3a-477e-a70a-5c0fd28fa326"
      },
      "source": [
        "df.head()"
      ],
      "execution_count": null,
      "outputs": [
        {
          "output_type": "execute_result",
          "data": {
            "text/html": [
              "<div>\n",
              "<style scoped>\n",
              "    .dataframe tbody tr th:only-of-type {\n",
              "        vertical-align: middle;\n",
              "    }\n",
              "\n",
              "    .dataframe tbody tr th {\n",
              "        vertical-align: top;\n",
              "    }\n",
              "\n",
              "    .dataframe thead th {\n",
              "        text-align: right;\n",
              "    }\n",
              "</style>\n",
              "<table border=\"1\" class=\"dataframe\">\n",
              "  <thead>\n",
              "    <tr style=\"text-align: right;\">\n",
              "      <th></th>\n",
              "      <th>question</th>\n",
              "      <th>tags</th>\n",
              "      <th>cat1</th>\n",
              "      <th>cat2</th>\n",
              "      <th>cat3</th>\n",
              "      <th>cat4</th>\n",
              "      <th>cat5</th>\n",
              "      <th>categories</th>\n",
              "    </tr>\n",
              "  </thead>\n",
              "  <tbody>\n",
              "    <tr>\n",
              "      <th>0</th>\n",
              "      <td>I have a Champion 120V generator, I want to us...</td>\n",
              "      <td>[120-240v]</td>\n",
              "      <td>electrical</td>\n",
              "      <td>None</td>\n",
              "      <td>None</td>\n",
              "      <td>None</td>\n",
              "      <td>None</td>\n",
              "      <td>electrical</td>\n",
              "    </tr>\n",
              "    <tr>\n",
              "      <th>1</th>\n",
              "      <td>Can I run conduit containing 120V wires inside...</td>\n",
              "      <td>[wiring, conduit, 120-240v]</td>\n",
              "      <td>wiring</td>\n",
              "      <td>electrical</td>\n",
              "      <td>electrical</td>\n",
              "      <td>None</td>\n",
              "      <td>None</td>\n",
              "      <td>wiring, electrical, electrical</td>\n",
              "    </tr>\n",
              "    <tr>\n",
              "      <th>2</th>\n",
              "      <td>30V on 120 circuit - swapped dishwashers and c...</td>\n",
              "      <td>[electrical, wiring, electrical-panel, 120-240v]</td>\n",
              "      <td>electrical</td>\n",
              "      <td>wiring</td>\n",
              "      <td>electrical</td>\n",
              "      <td>electrical</td>\n",
              "      <td>None</td>\n",
              "      <td>electrical, wiring, electrical, electrical</td>\n",
              "    </tr>\n",
              "    <tr>\n",
              "      <th>3</th>\n",
              "      <td>How much 120 from 240 is too much?</td>\n",
              "      <td>[wiring, shed, 120-240v]</td>\n",
              "      <td>wiring</td>\n",
              "      <td>exterior-maintenance</td>\n",
              "      <td>electrical</td>\n",
              "      <td>None</td>\n",
              "      <td>None</td>\n",
              "      <td>wiring, exterior-maintenance, electrical</td>\n",
              "    </tr>\n",
              "    <tr>\n",
              "      <th>4</th>\n",
              "      <td>Is it possible to wire a 240v outlet so that a...</td>\n",
              "      <td>[electrical, electrical-panel, 240v, 120-240v]</td>\n",
              "      <td>electrical</td>\n",
              "      <td>electrical</td>\n",
              "      <td>electrical</td>\n",
              "      <td>electrical</td>\n",
              "      <td>None</td>\n",
              "      <td>electrical, electrical, electrical, electrical</td>\n",
              "    </tr>\n",
              "  </tbody>\n",
              "</table>\n",
              "</div>"
            ],
            "text/plain": [
              "                                            question  ...                                      categories\n",
              "0  I have a Champion 120V generator, I want to us...  ...                                      electrical\n",
              "1  Can I run conduit containing 120V wires inside...  ...                  wiring, electrical, electrical\n",
              "2  30V on 120 circuit - swapped dishwashers and c...  ...      electrical, wiring, electrical, electrical\n",
              "3                 How much 120 from 240 is too much?  ...        wiring, exterior-maintenance, electrical\n",
              "4  Is it possible to wire a 240v outlet so that a...  ...  electrical, electrical, electrical, electrical\n",
              "\n",
              "[5 rows x 8 columns]"
            ]
          },
          "metadata": {},
          "execution_count": 18
        }
      ]
    },
    {
      "cell_type": "code",
      "metadata": {
        "colab": {
          "base_uri": "https://localhost:8080/",
          "height": 204
        },
        "id": "vAr7HNKynUcv",
        "outputId": "3da3edbb-74d8-46c7-f05b-79753225229d"
      },
      "source": [
        "df.drop(df.columns[[2, 3, 4, 5, 6]], axis = 1, inplace = True)\n",
        "df.head()"
      ],
      "execution_count": null,
      "outputs": [
        {
          "output_type": "execute_result",
          "data": {
            "text/html": [
              "<div>\n",
              "<style scoped>\n",
              "    .dataframe tbody tr th:only-of-type {\n",
              "        vertical-align: middle;\n",
              "    }\n",
              "\n",
              "    .dataframe tbody tr th {\n",
              "        vertical-align: top;\n",
              "    }\n",
              "\n",
              "    .dataframe thead th {\n",
              "        text-align: right;\n",
              "    }\n",
              "</style>\n",
              "<table border=\"1\" class=\"dataframe\">\n",
              "  <thead>\n",
              "    <tr style=\"text-align: right;\">\n",
              "      <th></th>\n",
              "      <th>question</th>\n",
              "      <th>tags</th>\n",
              "      <th>categories</th>\n",
              "    </tr>\n",
              "  </thead>\n",
              "  <tbody>\n",
              "    <tr>\n",
              "      <th>0</th>\n",
              "      <td>I have a Champion 120V generator, I want to us...</td>\n",
              "      <td>[120-240v]</td>\n",
              "      <td>electrical</td>\n",
              "    </tr>\n",
              "    <tr>\n",
              "      <th>1</th>\n",
              "      <td>Can I run conduit containing 120V wires inside...</td>\n",
              "      <td>[wiring, conduit, 120-240v]</td>\n",
              "      <td>wiring, electrical, electrical</td>\n",
              "    </tr>\n",
              "    <tr>\n",
              "      <th>2</th>\n",
              "      <td>30V on 120 circuit - swapped dishwashers and c...</td>\n",
              "      <td>[electrical, wiring, electrical-panel, 120-240v]</td>\n",
              "      <td>electrical, wiring, electrical, electrical</td>\n",
              "    </tr>\n",
              "    <tr>\n",
              "      <th>3</th>\n",
              "      <td>How much 120 from 240 is too much?</td>\n",
              "      <td>[wiring, shed, 120-240v]</td>\n",
              "      <td>wiring, exterior-maintenance, electrical</td>\n",
              "    </tr>\n",
              "    <tr>\n",
              "      <th>4</th>\n",
              "      <td>Is it possible to wire a 240v outlet so that a...</td>\n",
              "      <td>[electrical, electrical-panel, 240v, 120-240v]</td>\n",
              "      <td>electrical, electrical, electrical, electrical</td>\n",
              "    </tr>\n",
              "  </tbody>\n",
              "</table>\n",
              "</div>"
            ],
            "text/plain": [
              "                                            question  ...                                      categories\n",
              "0  I have a Champion 120V generator, I want to us...  ...                                      electrical\n",
              "1  Can I run conduit containing 120V wires inside...  ...                  wiring, electrical, electrical\n",
              "2  30V on 120 circuit - swapped dishwashers and c...  ...      electrical, wiring, electrical, electrical\n",
              "3                 How much 120 from 240 is too much?  ...        wiring, exterior-maintenance, electrical\n",
              "4  Is it possible to wire a 240v outlet so that a...  ...  electrical, electrical, electrical, electrical\n",
              "\n",
              "[5 rows x 3 columns]"
            ]
          },
          "metadata": {},
          "execution_count": 19
        }
      ]
    },
    {
      "cell_type": "code",
      "metadata": {
        "id": "IqVsvCgKk5tL"
      },
      "source": [
        "def remove_dup(strng):\n",
        "    '''\n",
        "     Input a string and split them \n",
        "    '''\n",
        "    return ', '.join(list(dict.fromkeys(strng.split(', '))))\n",
        "\n",
        "\n",
        "df['categories'] = df['categories'].apply(lambda x: remove_dup(x))"
      ],
      "execution_count": null,
      "outputs": []
    },
    {
      "cell_type": "code",
      "metadata": {
        "id": "YJuC8rcUl9Ly"
      },
      "source": [
        "df.head()"
      ],
      "execution_count": null,
      "outputs": []
    },
    {
      "cell_type": "code",
      "metadata": {
        "id": "lUpvAGipG0se"
      },
      "source": [
        "df.drop(df[df['categories'] == 'electrical'].index, inplace=True)\n",
        "df.drop(df[df['categories'] == 'plumbing'].index, inplace=True)\n",
        "df.drop(df[df['categories'] == 'hvac'].index, inplace=True)\n",
        "df.drop(df[df['categories'] == 'wiring'].index, inplace=True)\n",
        "df.drop(df[df['categories'] == 'materials'].index, inplace=True)\n",
        "df.drop(df[df['categories'] == 'exterior-maintenance'].index, inplace=True)\n",
        "df.drop(df[df['categories'] == 'lighting'].index, inplace=True)\n",
        "df.drop(df[df['categories'] == 'hardware-tools'].index, inplace=True)\n",
        "df.drop(df[df['categories'] == 'appliances'].index, inplace=True)"
      ],
      "execution_count": null,
      "outputs": []
    },
    {
      "cell_type": "code",
      "metadata": {
        "colab": {
          "base_uri": "https://localhost:8080/",
          "height": 979
        },
        "id": "BSmI6SAyJQde",
        "outputId": "dab1e089-987f-4d30-d02a-77f296284b98"
      },
      "source": [
        "df.head(30)"
      ],
      "execution_count": null,
      "outputs": [
        {
          "output_type": "execute_result",
          "data": {
            "text/html": [
              "<div>\n",
              "<style scoped>\n",
              "    .dataframe tbody tr th:only-of-type {\n",
              "        vertical-align: middle;\n",
              "    }\n",
              "\n",
              "    .dataframe tbody tr th {\n",
              "        vertical-align: top;\n",
              "    }\n",
              "\n",
              "    .dataframe thead th {\n",
              "        text-align: right;\n",
              "    }\n",
              "</style>\n",
              "<table border=\"1\" class=\"dataframe\">\n",
              "  <thead>\n",
              "    <tr style=\"text-align: right;\">\n",
              "      <th></th>\n",
              "      <th>context</th>\n",
              "      <th>tags</th>\n",
              "      <th>categories</th>\n",
              "    </tr>\n",
              "  </thead>\n",
              "  <tbody>\n",
              "    <tr>\n",
              "      <th>1</th>\n",
              "      <td>I was wondering if I could run 120v wires insi...</td>\n",
              "      <td>[wiring, conduit, 120-240v]</td>\n",
              "      <td>wiring, electrical</td>\n",
              "    </tr>\n",
              "    <tr>\n",
              "      <th>2</th>\n",
              "      <td>Situation: replaced dishwasher. Turned off the...</td>\n",
              "      <td>[electrical, wiring, electrical-panel, 120-240v]</td>\n",
              "      <td>electrical, wiring</td>\n",
              "    </tr>\n",
              "    <tr>\n",
              "      <th>3</th>\n",
              "      <td>I'm running a double circuit breaker from the ...</td>\n",
              "      <td>[wiring, shed, 120-240v]</td>\n",
              "      <td>wiring, exterior-maintenance, electrical</td>\n",
              "    </tr>\n",
              "    <tr>\n",
              "      <th>5</th>\n",
              "      <td>I am planning on adding a server to one of the...</td>\n",
              "      <td>[electrical, wiring, receptacle, 120-240v]</td>\n",
              "      <td>electrical, wiring</td>\n",
              "    </tr>\n",
              "    <tr>\n",
              "      <th>7</th>\n",
              "      <td>I have a multi wire branch circuit using two 2...</td>\n",
              "      <td>[electrical, wiring, gfci, 120-240v]</td>\n",
              "      <td>electrical, wiring</td>\n",
              "    </tr>\n",
              "    <tr>\n",
              "      <th>8</th>\n",
              "      <td>This cabin is located in the United States, an...</td>\n",
              "      <td>[electrical, wiring, electrical-panel, recepta...</td>\n",
              "      <td>electrical, wiring</td>\n",
              "    </tr>\n",
              "    <tr>\n",
              "      <th>9</th>\n",
              "      <td>I have a 240 volt dryer currently, and I want ...</td>\n",
              "      <td>[dryer, gas, 240v, 120-240v]</td>\n",
              "      <td>appliances, gas, electrical</td>\n",
              "    </tr>\n",
              "    <tr>\n",
              "      <th>13</th>\n",
              "      <td>I am having my main circuit breaker panel repl...</td>\n",
              "      <td>[electrical, wiring, 120-240v, usa]</td>\n",
              "      <td>electrical, wiring, usa</td>\n",
              "    </tr>\n",
              "    <tr>\n",
              "      <th>15</th>\n",
              "      <td>The breaker panel is on the outside wall, righ...</td>\n",
              "      <td>[electrical, code-compliance, garage, 120-240v]</td>\n",
              "      <td>electrical, garage</td>\n",
              "    </tr>\n",
              "    <tr>\n",
              "      <th>19</th>\n",
              "      <td>I found some similar questions but given possi...</td>\n",
              "      <td>[electrical, wiring, 240v, 120-240v]</td>\n",
              "      <td>electrical, wiring</td>\n",
              "    </tr>\n",
              "    <tr>\n",
              "      <th>21</th>\n",
              "      <td>This is how my subpanel looks like. I am looki...</td>\n",
              "      <td>[hvac, subpanel, 240v, 120-240v]</td>\n",
              "      <td>hvac, electrical</td>\n",
              "    </tr>\n",
              "    <tr>\n",
              "      <th>22</th>\n",
              "      <td>I have a two pole breaker with three black wir...</td>\n",
              "      <td>[wiring, circuit-breaker, 120-240v]</td>\n",
              "      <td>wiring, electrical</td>\n",
              "    </tr>\n",
              "    <tr>\n",
              "      <th>25</th>\n",
              "      <td>I purchased a 220 V outlet and didn't realize ...</td>\n",
              "      <td>[electrical, wiring, receptacle, 120-240v]</td>\n",
              "      <td>electrical, wiring</td>\n",
              "    </tr>\n",
              "    <tr>\n",
              "      <th>26</th>\n",
              "      <td>The oven in question states 40A with 120/240 v...</td>\n",
              "      <td>[electrical, wiring, 120-240v]</td>\n",
              "      <td>electrical, wiring</td>\n",
              "    </tr>\n",
              "    <tr>\n",
              "      <th>30</th>\n",
              "      <td>We are living on an island where the electrica...</td>\n",
              "      <td>[electrical, dryer, 240v, 120-240v]</td>\n",
              "      <td>electrical, appliances</td>\n",
              "    </tr>\n",
              "    <tr>\n",
              "      <th>31</th>\n",
              "      <td>My garage has very limited power with only one...</td>\n",
              "      <td>[wiring, subpanel, powertools, neutral, 120-240v]</td>\n",
              "      <td>wiring, electrical, hardware-tools</td>\n",
              "    </tr>\n",
              "    <tr>\n",
              "      <th>33</th>\n",
              "      <td>I would like to wall-mount my TV and have the ...</td>\n",
              "      <td>[electrical, code-compliance, low-voltage, tel...</td>\n",
              "      <td>electrical, appliances</td>\n",
              "    </tr>\n",
              "    <tr>\n",
              "      <th>34</th>\n",
              "      <td>My electrician wired a single bulb light fixtu...</td>\n",
              "      <td>[electrical, wiring, 240v, 120-240v]</td>\n",
              "      <td>electrical, wiring</td>\n",
              "    </tr>\n",
              "    <tr>\n",
              "      <th>35</th>\n",
              "      <td>I recently moved into an apartment with a 3-pr...</td>\n",
              "      <td>[electrical, dryer, 240v, 120-240v]</td>\n",
              "      <td>electrical, appliances</td>\n",
              "    </tr>\n",
              "    <tr>\n",
              "      <th>36</th>\n",
              "      <td>We currently have 240 high bay metal halide li...</td>\n",
              "      <td>[electrical, wiring, 120-240v]</td>\n",
              "      <td>electrical, wiring</td>\n",
              "    </tr>\n",
              "    <tr>\n",
              "      <th>37</th>\n",
              "      <td>So I have a ventless dryer, and it's a relativ...</td>\n",
              "      <td>[electrical, receptacle, dryer, washing-machin...</td>\n",
              "      <td>electrical, appliances</td>\n",
              "    </tr>\n",
              "    <tr>\n",
              "      <th>38</th>\n",
              "      <td>From a double pole 20-amp breaker, I ran 12/3 ...</td>\n",
              "      <td>[electrical, wiring, inspection, 120-240v, mwbc]</td>\n",
              "      <td>electrical, wiring</td>\n",
              "    </tr>\n",
              "    <tr>\n",
              "      <th>39</th>\n",
              "      <td>I want to replace my electric water heater wit...</td>\n",
              "      <td>[receptacle, hot-water, 120-240v]</td>\n",
              "      <td>electrical, appliances</td>\n",
              "    </tr>\n",
              "    <tr>\n",
              "      <th>43</th>\n",
              "      <td>I'm running 10-3 Romex for a 240v electric dry...</td>\n",
              "      <td>[dryer, laundry, 120-240v]</td>\n",
              "      <td>appliances, plumbing, electrical</td>\n",
              "    </tr>\n",
              "    <tr>\n",
              "      <th>46</th>\n",
              "      <td>The dryer electric driagram identifies  a RED ...</td>\n",
              "      <td>[dryer, 120-240v]</td>\n",
              "      <td>appliances, electrical</td>\n",
              "    </tr>\n",
              "    <tr>\n",
              "      <th>47</th>\n",
              "      <td>Will the following wiring diagram work? This 2...</td>\n",
              "      <td>[electrical, wiring, receptacle, circuit-break...</td>\n",
              "      <td>electrical, wiring</td>\n",
              "    </tr>\n",
              "    <tr>\n",
              "      <th>48</th>\n",
              "      <td>I have a stackable washer dryer combo with one...</td>\n",
              "      <td>[dryer, washer, 120-240v]</td>\n",
              "      <td>appliances, electrical</td>\n",
              "    </tr>\n",
              "    <tr>\n",
              "      <th>49</th>\n",
              "      <td>I recently added a box to install a ceiling fa...</td>\n",
              "      <td>[electrical, wiring, junction-box, 120-240v]</td>\n",
              "      <td>electrical, wiring</td>\n",
              "    </tr>\n",
              "    <tr>\n",
              "      <th>51</th>\n",
              "      <td>I want to have two switches (preferably in the...</td>\n",
              "      <td>[electrical, switch, led, low-voltage, 120-240v]</td>\n",
              "      <td>electrical, lighting</td>\n",
              "    </tr>\n",
              "    <tr>\n",
              "      <th>52</th>\n",
              "      <td>I am considering a small 1kW solar system (4x ...</td>\n",
              "      <td>[electrical, energy-efficiency, solar-panels, ...</td>\n",
              "      <td>electrical, energy-efficiency, solar-panels</td>\n",
              "    </tr>\n",
              "  </tbody>\n",
              "</table>\n",
              "</div>"
            ],
            "text/plain": [
              "                                              context  ...                                   categories\n",
              "1   I was wondering if I could run 120v wires insi...  ...                           wiring, electrical\n",
              "2   Situation: replaced dishwasher. Turned off the...  ...                           electrical, wiring\n",
              "3   I'm running a double circuit breaker from the ...  ...     wiring, exterior-maintenance, electrical\n",
              "5   I am planning on adding a server to one of the...  ...                           electrical, wiring\n",
              "7   I have a multi wire branch circuit using two 2...  ...                           electrical, wiring\n",
              "8   This cabin is located in the United States, an...  ...                           electrical, wiring\n",
              "9   I have a 240 volt dryer currently, and I want ...  ...                  appliances, gas, electrical\n",
              "13  I am having my main circuit breaker panel repl...  ...                      electrical, wiring, usa\n",
              "15  The breaker panel is on the outside wall, righ...  ...                           electrical, garage\n",
              "19  I found some similar questions but given possi...  ...                           electrical, wiring\n",
              "21  This is how my subpanel looks like. I am looki...  ...                             hvac, electrical\n",
              "22  I have a two pole breaker with three black wir...  ...                           wiring, electrical\n",
              "25  I purchased a 220 V outlet and didn't realize ...  ...                           electrical, wiring\n",
              "26  The oven in question states 40A with 120/240 v...  ...                           electrical, wiring\n",
              "30  We are living on an island where the electrica...  ...                       electrical, appliances\n",
              "31  My garage has very limited power with only one...  ...           wiring, electrical, hardware-tools\n",
              "33  I would like to wall-mount my TV and have the ...  ...                       electrical, appliances\n",
              "34  My electrician wired a single bulb light fixtu...  ...                           electrical, wiring\n",
              "35  I recently moved into an apartment with a 3-pr...  ...                       electrical, appliances\n",
              "36  We currently have 240 high bay metal halide li...  ...                           electrical, wiring\n",
              "37  So I have a ventless dryer, and it's a relativ...  ...                       electrical, appliances\n",
              "38  From a double pole 20-amp breaker, I ran 12/3 ...  ...                           electrical, wiring\n",
              "39  I want to replace my electric water heater wit...  ...                       electrical, appliances\n",
              "43  I'm running 10-3 Romex for a 240v electric dry...  ...             appliances, plumbing, electrical\n",
              "46  The dryer electric driagram identifies  a RED ...  ...                       appliances, electrical\n",
              "47  Will the following wiring diagram work? This 2...  ...                           electrical, wiring\n",
              "48  I have a stackable washer dryer combo with one...  ...                       appliances, electrical\n",
              "49  I recently added a box to install a ceiling fa...  ...                           electrical, wiring\n",
              "51  I want to have two switches (preferably in the...  ...                         electrical, lighting\n",
              "52  I am considering a small 1kW solar system (4x ...  ...  electrical, energy-efficiency, solar-panels\n",
              "\n",
              "[30 rows x 3 columns]"
            ]
          },
          "metadata": {},
          "execution_count": 146
        }
      ]
    },
    {
      "cell_type": "code",
      "metadata": {
        "id": "uI-aG7wBRxi_"
      },
      "source": [
        "df.drop(df[df['categories'] == 'electrical, wiring'].index, inplace=True)\n",
        "df.drop(df[df['categories'] == 'electrical, plumbing'].index, inplace=True)\n",
        "df.drop(df[df['categories'] == 'electrical, hvac'].index, inplace=True)\n",
        "df.drop(df[df['categories'] == 'electrical, materials'].index, inplace=True)\n",
        "df.drop(df[df['categories'] == 'electrical, exterior-maintenance'].index, inplace=True)\n",
        "df.drop(df[df['categories'] == 'electrical, appliances'].index, inplace=True)\n",
        "df.drop(df[df['categories'] == 'electrical, safety'].index, inplace=True)\n",
        "\n",
        "df.drop(df[df['categories'] == 'electrical, lighting'].index, inplace=True)\n",
        "df.drop(df[df['categories'] == 'electrical, hardware-tools'].index, inplace=True)\n",
        "df.drop(df[df['categories'] == 'electrical, interior-maintenance'].index, inplace=True)\n",
        "df.drop(df[df['categories'] == 'electrical, insulation'].index, inplace=True)\n",
        "df.drop(df[df['categories'] == 'electrical, repair'].index, inplace=True)\n",
        "df.drop(df[df['categories'] == 'electrical, walls'].index, inplace=True)\n",
        "df.drop(df[df['categories'] == 'electrical, wood'].index, inplace=True)\n",
        "df.drop(df[df['categories'] == 'electrical, doors'].index, inplace=True)\n",
        "df.drop(df[df['categories'] == 'electrical, kitchen'].index, inplace=True)\n",
        "df.drop(df[df['categories'] == 'electrical, basement'].index, inplace=True)\n",
        "\n",
        "df.drop(df[df['categories'] == 'plumbing, electrical'].index, inplace=True)\n",
        "df.drop(df[df['categories'] == 'plumbing, wiring'].index, inplace=True)\n",
        "df.drop(df[df['categories'] == 'plumbing, hvac'].index, inplace=True)\n",
        "df.drop(df[df['categories'] == 'plumbing, materials'].index, inplace=True)\n",
        "df.drop(df[df['categories'] == 'plumbing, exterior-maintenance'].index, inplace=True)\n",
        "df.drop(df[df['categories'] == 'plumbing, appliances'].index, inplace=True)\n",
        "df.drop(df[df['categories'] == 'plumbing, safety'].index, inplace=True)\n",
        "df.drop(df[df['categories'] == 'plumbing, bathroom'].index, inplace=True)\n",
        "df.drop(df[df['categories'] == 'plumbing, lighting'].index, inplace=True)\n",
        "df.drop(df[df['categories'] == 'plumbing, hardware-tools'].index, inplace=True)\n",
        "df.drop(df[df['categories'] == 'plumbing, interior-maintenance'].index, inplace=True)\n",
        "df.drop(df[df['categories'] == 'plumbing, insulation'].index, inplace=True)\n",
        "\n",
        "df.drop(df[df['categories'] == 'wiring, electrical'].index, inplace=True)\n",
        "df.drop(df[df['categories'] == 'wiring, plumbing'].index, inplace=True)\n",
        "df.drop(df[df['categories'] == 'wiring, hvac'].index, inplace=True)\n",
        "df.drop(df[df['categories'] == 'wiring, materials'].index, inplace=True)\n",
        "df.drop(df[df['categories'] == 'wiring, exterior-maintenance'].index, inplace=True)\n",
        "\n"
      ],
      "execution_count": null,
      "outputs": []
    },
    {
      "cell_type": "code",
      "metadata": {
        "colab": {
          "base_uri": "https://localhost:8080/",
          "height": 204
        },
        "id": "VvirbR351HT0",
        "outputId": "11cd8985-45d8-4136-fab8-159184e6c515"
      },
      "source": [
        "df.drop(df[df['categories'] == 'materials, electrical'].index, inplace=True)\n",
        "df.drop(df[df['categories'] == 'materials, plumbing'].index, inplace=True)\n",
        "df.drop(df[df['categories'] == 'materials, hvac'].index, inplace=True)\n",
        "df.drop(df[df['categories'] == 'materials, wiring'].index, inplace=True)\n",
        "df.drop(df[df['categories'] == 'materials, exterior-maintenance'].index, inplace=True)\n",
        "df.drop(df[df['categories'] == 'materials, appliances'].index, inplace=True)\n",
        "df.drop(df[df['categories'] == 'materials, safety'].index, inplace=True)\n",
        "df.drop(df[df['categories'] == 'materials, bathroom'].index, inplace=True)\n",
        "df.drop(df[df['categories'] == 'materials, lighting'].index, inplace=True)\n",
        "df.drop(df[df['categories'] == 'materials, hardware-tools'].index, inplace=True)\n",
        "df.drop(df[df['categories'] == 'materials, interior-maintenance'].index, inplace=True)\n",
        "df.drop(df[df['categories'] == 'materials, insulation'].index, inplace=True)\n",
        "\n",
        "df.drop(df[df['categories'] == 'hvac, electrical'].index, inplace=True)\n",
        "df.drop(df[df['categories'] == 'hvac, plumbing'].index, inplace=True)\n",
        "df.drop(df[df['categories'] == 'hvac, wiring'].index, inplace=True)\n",
        "df.drop(df[df['categories'] == 'hvac, materials'].index, inplace=True)\n",
        "df.drop(df[df['categories'] == 'hvac, exterior-maintenance'].index, inplace=True)\n",
        "\n",
        "df.drop(df[df['categories'] == 'exterior-maintenance, electrical'].index, inplace=True)\n",
        "df.drop(df[df['categories'] == 'exterior-maintenance, plumbing'].index, inplace=True)\n",
        "df.drop(df[df['categories'] == 'exterior-maintenance, wiring'].index, inplace=True)\n",
        "df.drop(df[df['categories'] == 'exterior-maintenance, materials'].index, inplace=True)\n",
        "df.drop(df[df['categories'] == 'exterior-maintenance, hvac'].index, inplace=True)\n",
        "\n",
        "df.drop(df[df['categories'] == 'appliances, electrical'].index, inplace=True)\n",
        "df.head()\n"
      ],
      "execution_count": null,
      "outputs": [
        {
          "output_type": "execute_result",
          "data": {
            "text/html": [
              "<div>\n",
              "<style scoped>\n",
              "    .dataframe tbody tr th:only-of-type {\n",
              "        vertical-align: middle;\n",
              "    }\n",
              "\n",
              "    .dataframe tbody tr th {\n",
              "        vertical-align: top;\n",
              "    }\n",
              "\n",
              "    .dataframe thead th {\n",
              "        text-align: right;\n",
              "    }\n",
              "</style>\n",
              "<table border=\"1\" class=\"dataframe\">\n",
              "  <thead>\n",
              "    <tr style=\"text-align: right;\">\n",
              "      <th></th>\n",
              "      <th>context</th>\n",
              "      <th>tags</th>\n",
              "      <th>categories</th>\n",
              "    </tr>\n",
              "  </thead>\n",
              "  <tbody>\n",
              "    <tr>\n",
              "      <th>3</th>\n",
              "      <td>I'm running a double circuit breaker from the ...</td>\n",
              "      <td>[wiring, shed, 120-240v]</td>\n",
              "      <td>wiring, exterior-maintenance, electrical</td>\n",
              "    </tr>\n",
              "    <tr>\n",
              "      <th>9</th>\n",
              "      <td>I have a 240 volt dryer currently, and I want ...</td>\n",
              "      <td>[dryer, gas, 240v, 120-240v]</td>\n",
              "      <td>appliances, gas, electrical</td>\n",
              "    </tr>\n",
              "    <tr>\n",
              "      <th>13</th>\n",
              "      <td>I am having my main circuit breaker panel repl...</td>\n",
              "      <td>[electrical, wiring, 120-240v, usa]</td>\n",
              "      <td>electrical, wiring, usa</td>\n",
              "    </tr>\n",
              "    <tr>\n",
              "      <th>15</th>\n",
              "      <td>The breaker panel is on the outside wall, righ...</td>\n",
              "      <td>[electrical, code-compliance, garage, 120-240v]</td>\n",
              "      <td>electrical, garage</td>\n",
              "    </tr>\n",
              "    <tr>\n",
              "      <th>31</th>\n",
              "      <td>My garage has very limited power with only one...</td>\n",
              "      <td>[wiring, subpanel, powertools, neutral, 120-240v]</td>\n",
              "      <td>wiring, electrical, hardware-tools</td>\n",
              "    </tr>\n",
              "  </tbody>\n",
              "</table>\n",
              "</div>"
            ],
            "text/plain": [
              "                                              context  ...                                categories\n",
              "3   I'm running a double circuit breaker from the ...  ...  wiring, exterior-maintenance, electrical\n",
              "9   I have a 240 volt dryer currently, and I want ...  ...               appliances, gas, electrical\n",
              "13  I am having my main circuit breaker panel repl...  ...                   electrical, wiring, usa\n",
              "15  The breaker panel is on the outside wall, righ...  ...                        electrical, garage\n",
              "31  My garage has very limited power with only one...  ...        wiring, electrical, hardware-tools\n",
              "\n",
              "[5 rows x 3 columns]"
            ]
          },
          "metadata": {},
          "execution_count": 148
        }
      ]
    },
    {
      "cell_type": "code",
      "metadata": {
        "id": "gWRvE1m10GKP"
      },
      "source": [
        "df.to_csv(r'/content/drive/MyDrive/Dataset/Trial_dataset.csv', index = True)"
      ],
      "execution_count": null,
      "outputs": []
    },
    {
      "cell_type": "markdown",
      "metadata": {
        "id": "2jr3sfw_vyYZ"
      },
      "source": [
        "**Start from here**"
      ]
    },
    {
      "cell_type": "code",
      "metadata": {
        "colab": {
          "base_uri": "https://localhost:8080/",
          "height": 204
        },
        "id": "mm2B-D2f06bE",
        "outputId": "f6ba0e9d-579d-41f8-c721-55a05cf5fabf"
      },
      "source": [
        "df = pd.read_csv('/content/drive/MyDrive/Dataset/Trial_dataset.csv')\n",
        "df.head()"
      ],
      "execution_count": null,
      "outputs": [
        {
          "output_type": "execute_result",
          "data": {
            "text/html": [
              "<div>\n",
              "<style scoped>\n",
              "    .dataframe tbody tr th:only-of-type {\n",
              "        vertical-align: middle;\n",
              "    }\n",
              "\n",
              "    .dataframe tbody tr th {\n",
              "        vertical-align: top;\n",
              "    }\n",
              "\n",
              "    .dataframe thead th {\n",
              "        text-align: right;\n",
              "    }\n",
              "</style>\n",
              "<table border=\"1\" class=\"dataframe\">\n",
              "  <thead>\n",
              "    <tr style=\"text-align: right;\">\n",
              "      <th></th>\n",
              "      <th>Unnamed: 0</th>\n",
              "      <th>question</th>\n",
              "      <th>tags</th>\n",
              "      <th>categories</th>\n",
              "    </tr>\n",
              "  </thead>\n",
              "  <tbody>\n",
              "    <tr>\n",
              "      <th>0</th>\n",
              "      <td>0</td>\n",
              "      <td>I have a Champion 120V generator, I want to us...</td>\n",
              "      <td>['120-240v']</td>\n",
              "      <td>electrical</td>\n",
              "    </tr>\n",
              "    <tr>\n",
              "      <th>1</th>\n",
              "      <td>1</td>\n",
              "      <td>Can I run conduit containing 120V wires inside...</td>\n",
              "      <td>['wiring', 'conduit', '120-240v']</td>\n",
              "      <td>wiring, electrical</td>\n",
              "    </tr>\n",
              "    <tr>\n",
              "      <th>2</th>\n",
              "      <td>2</td>\n",
              "      <td>30V on 120 circuit - swapped dishwashers and c...</td>\n",
              "      <td>['electrical', 'wiring', 'electrical-panel', '...</td>\n",
              "      <td>electrical, wiring</td>\n",
              "    </tr>\n",
              "    <tr>\n",
              "      <th>3</th>\n",
              "      <td>3</td>\n",
              "      <td>How much 120 from 240 is too much?</td>\n",
              "      <td>['wiring', 'shed', '120-240v']</td>\n",
              "      <td>wiring, exterior-maintenance, electrical</td>\n",
              "    </tr>\n",
              "    <tr>\n",
              "      <th>4</th>\n",
              "      <td>4</td>\n",
              "      <td>Is it possible to wire a 240v outlet so that a...</td>\n",
              "      <td>['electrical', 'electrical-panel', '240v', '12...</td>\n",
              "      <td>electrical</td>\n",
              "    </tr>\n",
              "  </tbody>\n",
              "</table>\n",
              "</div>"
            ],
            "text/plain": [
              "   Unnamed: 0  ...                                categories\n",
              "0           0  ...                                electrical\n",
              "1           1  ...                        wiring, electrical\n",
              "2           2  ...                        electrical, wiring\n",
              "3           3  ...  wiring, exterior-maintenance, electrical\n",
              "4           4  ...                                electrical\n",
              "\n",
              "[5 rows x 4 columns]"
            ]
          },
          "metadata": {},
          "execution_count": 50
        }
      ]
    },
    {
      "cell_type": "code",
      "metadata": {
        "colab": {
          "base_uri": "https://localhost:8080/",
          "height": 204
        },
        "id": "GPQ1LVhAWuND",
        "outputId": "db6f0391-3a66-4bce-96cb-b38aecc6de22"
      },
      "source": [
        "df.drop(df.columns[[ 0, 2 ]], axis = 1, inplace = True)\n",
        "df.head()"
      ],
      "execution_count": null,
      "outputs": [
        {
          "output_type": "execute_result",
          "data": {
            "text/html": [
              "<div>\n",
              "<style scoped>\n",
              "    .dataframe tbody tr th:only-of-type {\n",
              "        vertical-align: middle;\n",
              "    }\n",
              "\n",
              "    .dataframe tbody tr th {\n",
              "        vertical-align: top;\n",
              "    }\n",
              "\n",
              "    .dataframe thead th {\n",
              "        text-align: right;\n",
              "    }\n",
              "</style>\n",
              "<table border=\"1\" class=\"dataframe\">\n",
              "  <thead>\n",
              "    <tr style=\"text-align: right;\">\n",
              "      <th></th>\n",
              "      <th>question</th>\n",
              "      <th>categories</th>\n",
              "    </tr>\n",
              "  </thead>\n",
              "  <tbody>\n",
              "    <tr>\n",
              "      <th>0</th>\n",
              "      <td>I have a Champion 120V generator, I want to us...</td>\n",
              "      <td>electrical</td>\n",
              "    </tr>\n",
              "    <tr>\n",
              "      <th>1</th>\n",
              "      <td>Can I run conduit containing 120V wires inside...</td>\n",
              "      <td>wiring, electrical</td>\n",
              "    </tr>\n",
              "    <tr>\n",
              "      <th>2</th>\n",
              "      <td>30V on 120 circuit - swapped dishwashers and c...</td>\n",
              "      <td>electrical, wiring</td>\n",
              "    </tr>\n",
              "    <tr>\n",
              "      <th>3</th>\n",
              "      <td>How much 120 from 240 is too much?</td>\n",
              "      <td>wiring, exterior-maintenance, electrical</td>\n",
              "    </tr>\n",
              "    <tr>\n",
              "      <th>4</th>\n",
              "      <td>Is it possible to wire a 240v outlet so that a...</td>\n",
              "      <td>electrical</td>\n",
              "    </tr>\n",
              "  </tbody>\n",
              "</table>\n",
              "</div>"
            ],
            "text/plain": [
              "                                            question                                categories\n",
              "0  I have a Champion 120V generator, I want to us...                                electrical\n",
              "1  Can I run conduit containing 120V wires inside...                        wiring, electrical\n",
              "2  30V on 120 circuit - swapped dishwashers and c...                        electrical, wiring\n",
              "3                 How much 120 from 240 is too much?  wiring, exterior-maintenance, electrical\n",
              "4  Is it possible to wire a 240v outlet so that a...                                electrical"
            ]
          },
          "metadata": {},
          "execution_count": 51
        }
      ]
    },
    {
      "cell_type": "code",
      "metadata": {
        "colab": {
          "base_uri": "https://localhost:8080/"
        },
        "id": "Fe0ykcxNttKR",
        "outputId": "16f982c0-28d3-4ee7-ce4a-6c429dbfc043"
      },
      "source": [
        "df.shape"
      ],
      "execution_count": null,
      "outputs": [
        {
          "output_type": "execute_result",
          "data": {
            "text/plain": [
              "(56431, 2)"
            ]
          },
          "metadata": {},
          "execution_count": 52
        }
      ]
    },
    {
      "cell_type": "code",
      "metadata": {
        "id": "2PidJ6erWuqs"
      },
      "source": [
        "df['categories'] = df['categories'].astype('str')"
      ],
      "execution_count": null,
      "outputs": []
    },
    {
      "cell_type": "code",
      "metadata": {
        "id": "_Rzis_21txH9"
      },
      "source": [
        "df_new = pd.DataFrame(df.categories.str.split(',').tolist(), index=df.question).stack()\n",
        "df_new = df_new.reset_index([0, 'question'])\n",
        "df_new.columns = ['context', 'categories']"
      ],
      "execution_count": null,
      "outputs": []
    },
    {
      "cell_type": "code",
      "metadata": {
        "colab": {
          "base_uri": "https://localhost:8080/",
          "height": 204
        },
        "id": "K5cTh4G4y_xD",
        "outputId": "f0a5b131-b099-4ede-fe92-2c5b790dfaa1"
      },
      "source": [
        "df_new.head()"
      ],
      "execution_count": null,
      "outputs": [
        {
          "output_type": "execute_result",
          "data": {
            "text/html": [
              "<div>\n",
              "<style scoped>\n",
              "    .dataframe tbody tr th:only-of-type {\n",
              "        vertical-align: middle;\n",
              "    }\n",
              "\n",
              "    .dataframe tbody tr th {\n",
              "        vertical-align: top;\n",
              "    }\n",
              "\n",
              "    .dataframe thead th {\n",
              "        text-align: right;\n",
              "    }\n",
              "</style>\n",
              "<table border=\"1\" class=\"dataframe\">\n",
              "  <thead>\n",
              "    <tr style=\"text-align: right;\">\n",
              "      <th></th>\n",
              "      <th>context</th>\n",
              "      <th>categories</th>\n",
              "    </tr>\n",
              "  </thead>\n",
              "  <tbody>\n",
              "    <tr>\n",
              "      <th>0</th>\n",
              "      <td>I have a Champion 120V generator, I want to us...</td>\n",
              "      <td>electrical</td>\n",
              "    </tr>\n",
              "    <tr>\n",
              "      <th>1</th>\n",
              "      <td>Can I run conduit containing 120V wires inside...</td>\n",
              "      <td>wiring</td>\n",
              "    </tr>\n",
              "    <tr>\n",
              "      <th>2</th>\n",
              "      <td>Can I run conduit containing 120V wires inside...</td>\n",
              "      <td>electrical</td>\n",
              "    </tr>\n",
              "    <tr>\n",
              "      <th>3</th>\n",
              "      <td>30V on 120 circuit - swapped dishwashers and c...</td>\n",
              "      <td>electrical</td>\n",
              "    </tr>\n",
              "    <tr>\n",
              "      <th>4</th>\n",
              "      <td>30V on 120 circuit - swapped dishwashers and c...</td>\n",
              "      <td>wiring</td>\n",
              "    </tr>\n",
              "  </tbody>\n",
              "</table>\n",
              "</div>"
            ],
            "text/plain": [
              "                                             context   categories\n",
              "0  I have a Champion 120V generator, I want to us...   electrical\n",
              "1  Can I run conduit containing 120V wires inside...       wiring\n",
              "2  Can I run conduit containing 120V wires inside...   electrical\n",
              "3  30V on 120 circuit - swapped dishwashers and c...   electrical\n",
              "4  30V on 120 circuit - swapped dishwashers and c...       wiring"
            ]
          },
          "metadata": {},
          "execution_count": 55
        }
      ]
    },
    {
      "cell_type": "code",
      "metadata": {
        "colab": {
          "base_uri": "https://localhost:8080/",
          "height": 204
        },
        "id": "tTYvb1E3txRE",
        "outputId": "ec3107e7-6521-4542-a358-7f193f7bf9d6"
      },
      "source": [
        "df_new['categories'] = df_new['categories'].str.replace(\" \", \"\")\n",
        "df_new.head()"
      ],
      "execution_count": null,
      "outputs": [
        {
          "output_type": "execute_result",
          "data": {
            "text/html": [
              "<div>\n",
              "<style scoped>\n",
              "    .dataframe tbody tr th:only-of-type {\n",
              "        vertical-align: middle;\n",
              "    }\n",
              "\n",
              "    .dataframe tbody tr th {\n",
              "        vertical-align: top;\n",
              "    }\n",
              "\n",
              "    .dataframe thead th {\n",
              "        text-align: right;\n",
              "    }\n",
              "</style>\n",
              "<table border=\"1\" class=\"dataframe\">\n",
              "  <thead>\n",
              "    <tr style=\"text-align: right;\">\n",
              "      <th></th>\n",
              "      <th>context</th>\n",
              "      <th>categories</th>\n",
              "    </tr>\n",
              "  </thead>\n",
              "  <tbody>\n",
              "    <tr>\n",
              "      <th>0</th>\n",
              "      <td>I have a Champion 120V generator, I want to us...</td>\n",
              "      <td>electrical</td>\n",
              "    </tr>\n",
              "    <tr>\n",
              "      <th>1</th>\n",
              "      <td>Can I run conduit containing 120V wires inside...</td>\n",
              "      <td>wiring</td>\n",
              "    </tr>\n",
              "    <tr>\n",
              "      <th>2</th>\n",
              "      <td>Can I run conduit containing 120V wires inside...</td>\n",
              "      <td>electrical</td>\n",
              "    </tr>\n",
              "    <tr>\n",
              "      <th>3</th>\n",
              "      <td>30V on 120 circuit - swapped dishwashers and c...</td>\n",
              "      <td>electrical</td>\n",
              "    </tr>\n",
              "    <tr>\n",
              "      <th>4</th>\n",
              "      <td>30V on 120 circuit - swapped dishwashers and c...</td>\n",
              "      <td>wiring</td>\n",
              "    </tr>\n",
              "  </tbody>\n",
              "</table>\n",
              "</div>"
            ],
            "text/plain": [
              "                                             context  categories\n",
              "0  I have a Champion 120V generator, I want to us...  electrical\n",
              "1  Can I run conduit containing 120V wires inside...      wiring\n",
              "2  Can I run conduit containing 120V wires inside...  electrical\n",
              "3  30V on 120 circuit - swapped dishwashers and c...  electrical\n",
              "4  30V on 120 circuit - swapped dishwashers and c...      wiring"
            ]
          },
          "metadata": {},
          "execution_count": 56
        }
      ]
    },
    {
      "cell_type": "code",
      "metadata": {
        "id": "jrNlH0wF2_H3"
      },
      "source": [
        "## for i, name in enumerate(df_new['categories'].value_counts().index.tolist()):\n",
        "    ## print('Name :', name)\n",
        "    ## print('Counts :', df_new['categories'].value_counts()[i])"
      ],
      "execution_count": null,
      "outputs": []
    },
    {
      "cell_type": "code",
      "metadata": {
        "colab": {
          "base_uri": "https://localhost:8080/"
        },
        "id": "gvVlYlJztxYT",
        "outputId": "4cc30c8f-f0e5-48f0-801e-f64e59679693"
      },
      "source": [
        "c = df_new['categories'].value_counts()\n",
        "c.head(13)"
      ],
      "execution_count": null,
      "outputs": [
        {
          "output_type": "execute_result",
          "data": {
            "text/plain": [
              "electrical              15264\n",
              "plumbing                 8200\n",
              "materials                5604\n",
              "wiring                   5258\n",
              "hvac                     5257\n",
              "exterior-maintenance     4733\n",
              "lighting                 3642\n",
              "appliances               3488\n",
              "hardware-tools           3294\n",
              "safety                   2786\n",
              "walls-drywallls          2509\n",
              "interior-maintenance     2491\n",
              "insulation               2191\n",
              "Name: categories, dtype: int64"
            ]
          },
          "metadata": {},
          "execution_count": 57
        }
      ]
    },
    {
      "cell_type": "code",
      "metadata": {
        "colab": {
          "base_uri": "https://localhost:8080/",
          "height": 204
        },
        "id": "nNAiivfRtxb-",
        "outputId": "66e5822a-6a7c-4be6-afec-9b819e8b4b32"
      },
      "source": [
        "x = (df_new[df_new['categories'] == 'electrical'])\n",
        "x.head()"
      ],
      "execution_count": null,
      "outputs": [
        {
          "output_type": "execute_result",
          "data": {
            "text/html": [
              "<div>\n",
              "<style scoped>\n",
              "    .dataframe tbody tr th:only-of-type {\n",
              "        vertical-align: middle;\n",
              "    }\n",
              "\n",
              "    .dataframe tbody tr th {\n",
              "        vertical-align: top;\n",
              "    }\n",
              "\n",
              "    .dataframe thead th {\n",
              "        text-align: right;\n",
              "    }\n",
              "</style>\n",
              "<table border=\"1\" class=\"dataframe\">\n",
              "  <thead>\n",
              "    <tr style=\"text-align: right;\">\n",
              "      <th></th>\n",
              "      <th>context</th>\n",
              "      <th>categories</th>\n",
              "    </tr>\n",
              "  </thead>\n",
              "  <tbody>\n",
              "    <tr>\n",
              "      <th>0</th>\n",
              "      <td>I have a Champion 120V generator, I want to us...</td>\n",
              "      <td>electrical</td>\n",
              "    </tr>\n",
              "    <tr>\n",
              "      <th>2</th>\n",
              "      <td>Can I run conduit containing 120V wires inside...</td>\n",
              "      <td>electrical</td>\n",
              "    </tr>\n",
              "    <tr>\n",
              "      <th>3</th>\n",
              "      <td>30V on 120 circuit - swapped dishwashers and c...</td>\n",
              "      <td>electrical</td>\n",
              "    </tr>\n",
              "    <tr>\n",
              "      <th>7</th>\n",
              "      <td>How much 120 from 240 is too much?</td>\n",
              "      <td>electrical</td>\n",
              "    </tr>\n",
              "    <tr>\n",
              "      <th>8</th>\n",
              "      <td>Is it possible to wire a 240v outlet so that a...</td>\n",
              "      <td>electrical</td>\n",
              "    </tr>\n",
              "  </tbody>\n",
              "</table>\n",
              "</div>"
            ],
            "text/plain": [
              "                                             context  categories\n",
              "0  I have a Champion 120V generator, I want to us...  electrical\n",
              "2  Can I run conduit containing 120V wires inside...  electrical\n",
              "3  30V on 120 circuit - swapped dishwashers and c...  electrical\n",
              "7                 How much 120 from 240 is too much?  electrical\n",
              "8  Is it possible to wire a 240v outlet so that a...  electrical"
            ]
          },
          "metadata": {},
          "execution_count": 58
        }
      ]
    },
    {
      "cell_type": "code",
      "metadata": {
        "colab": {
          "base_uri": "https://localhost:8080/",
          "height": 204
        },
        "id": "7W5Ni-Jotxhg",
        "outputId": "95e1555a-0ae5-433f-ddb6-a42e659aa691"
      },
      "source": [
        "x1 = (df_new[df_new['categories'] == 'plumbing'])\n",
        "x1.head()\n",
        "\n",
        "x2 = (df_new[df_new['categories'] == 'materials'])\n",
        "x2.head()\n",
        "\n",
        "x3 = (df_new[df_new['categories'] == 'wiring'])\n",
        "x3.head()\n",
        "\n",
        "x4 = (df_new[df_new['categories'] == 'hvac'])\n",
        "x4.head()\n",
        "\n",
        "x5 = (df_new[df_new['categories'] == 'exterior-maintenance'])\n",
        "x5.head()\n",
        "\n",
        "x6 = (df_new[df_new['categories'] == 'lighting'])\n",
        "x6.head()\n",
        "\n",
        "x7 = (df_new[df_new['categories'] == 'hardware-tools'])\n",
        "x7.head()\n",
        "\n",
        "x8 = (df_new[df_new['categories'] == 'appliances'])\n",
        "x8.head()\n",
        "\n",
        "x10 = (df_new[df_new['categories'] == 'safety'])\n",
        "x10.head()\n",
        "\n",
        "x11 = (df_new[df_new['categories'] == 'walls-drywallls'])\n",
        "x11.head()\n",
        "\n",
        "x12 = (df_new[df_new['categories'] == 'interior-maintenance'])\n",
        "x12.head()\n",
        "\n",
        "x13 = (df_new[df_new['categories'] == 'insulation'])\n",
        "x13.head()\n",
        "    \n"
      ],
      "execution_count": null,
      "outputs": [
        {
          "output_type": "execute_result",
          "data": {
            "text/html": [
              "<div>\n",
              "<style scoped>\n",
              "    .dataframe tbody tr th:only-of-type {\n",
              "        vertical-align: middle;\n",
              "    }\n",
              "\n",
              "    .dataframe tbody tr th {\n",
              "        vertical-align: top;\n",
              "    }\n",
              "\n",
              "    .dataframe thead th {\n",
              "        text-align: right;\n",
              "    }\n",
              "</style>\n",
              "<table border=\"1\" class=\"dataframe\">\n",
              "  <thead>\n",
              "    <tr style=\"text-align: right;\">\n",
              "      <th></th>\n",
              "      <th>context</th>\n",
              "      <th>categories</th>\n",
              "    </tr>\n",
              "  </thead>\n",
              "  <tbody>\n",
              "    <tr>\n",
              "      <th>693</th>\n",
              "      <td>Cellulose ceiling tiles (asbestos?)</td>\n",
              "      <td>insulation</td>\n",
              "    </tr>\n",
              "    <tr>\n",
              "      <th>695</th>\n",
              "      <td>How should I stick acoustic foams on the walls?</td>\n",
              "      <td>insulation</td>\n",
              "    </tr>\n",
              "    <tr>\n",
              "      <th>698</th>\n",
              "      <td>Painting acoustic drywall with large perforations</td>\n",
              "      <td>insulation</td>\n",
              "    </tr>\n",
              "    <tr>\n",
              "      <th>701</th>\n",
              "      <td>Mounting Acoustic Foam in a rented flat</td>\n",
              "      <td>insulation</td>\n",
              "    </tr>\n",
              "    <tr>\n",
              "      <th>703</th>\n",
              "      <td>Using acoustic foam between two windows to blo...</td>\n",
              "      <td>insulation</td>\n",
              "    </tr>\n",
              "  </tbody>\n",
              "</table>\n",
              "</div>"
            ],
            "text/plain": [
              "                                               context  categories\n",
              "693                Cellulose ceiling tiles (asbestos?)  insulation\n",
              "695    How should I stick acoustic foams on the walls?  insulation\n",
              "698  Painting acoustic drywall with large perforations  insulation\n",
              "701            Mounting Acoustic Foam in a rented flat  insulation\n",
              "703  Using acoustic foam between two windows to blo...  insulation"
            ]
          },
          "metadata": {},
          "execution_count": 59
        }
      ]
    },
    {
      "cell_type": "code",
      "metadata": {
        "colab": {
          "base_uri": "https://localhost:8080/"
        },
        "id": "wIURMiJquenD",
        "outputId": "028ef121-38a2-4fcf-df17-811a4121c5e2"
      },
      "source": [
        "frames = [x, x1, x2, x3, x4, x5, x6, x7, x8, x10, x11, x12, x13]\n",
        "result = pd.concat(frames)\n",
        "result.shape"
      ],
      "execution_count": null,
      "outputs": [
        {
          "output_type": "execute_result",
          "data": {
            "text/plain": [
              "(64717, 2)"
            ]
          },
          "metadata": {},
          "execution_count": 60
        }
      ]
    },
    {
      "cell_type": "code",
      "metadata": {
        "colab": {
          "base_uri": "https://localhost:8080/",
          "height": 204
        },
        "id": "Q_tq0rQ8ufJv",
        "outputId": "4e7c8f1c-9d1a-4490-cd91-0ae071845ce3"
      },
      "source": [
        "result.head()"
      ],
      "execution_count": null,
      "outputs": [
        {
          "output_type": "execute_result",
          "data": {
            "text/html": [
              "<div>\n",
              "<style scoped>\n",
              "    .dataframe tbody tr th:only-of-type {\n",
              "        vertical-align: middle;\n",
              "    }\n",
              "\n",
              "    .dataframe tbody tr th {\n",
              "        vertical-align: top;\n",
              "    }\n",
              "\n",
              "    .dataframe thead th {\n",
              "        text-align: right;\n",
              "    }\n",
              "</style>\n",
              "<table border=\"1\" class=\"dataframe\">\n",
              "  <thead>\n",
              "    <tr style=\"text-align: right;\">\n",
              "      <th></th>\n",
              "      <th>context</th>\n",
              "      <th>categories</th>\n",
              "    </tr>\n",
              "  </thead>\n",
              "  <tbody>\n",
              "    <tr>\n",
              "      <th>0</th>\n",
              "      <td>I have a Champion 120V generator, I want to us...</td>\n",
              "      <td>electrical</td>\n",
              "    </tr>\n",
              "    <tr>\n",
              "      <th>2</th>\n",
              "      <td>Can I run conduit containing 120V wires inside...</td>\n",
              "      <td>electrical</td>\n",
              "    </tr>\n",
              "    <tr>\n",
              "      <th>3</th>\n",
              "      <td>30V on 120 circuit - swapped dishwashers and c...</td>\n",
              "      <td>electrical</td>\n",
              "    </tr>\n",
              "    <tr>\n",
              "      <th>7</th>\n",
              "      <td>How much 120 from 240 is too much?</td>\n",
              "      <td>electrical</td>\n",
              "    </tr>\n",
              "    <tr>\n",
              "      <th>8</th>\n",
              "      <td>Is it possible to wire a 240v outlet so that a...</td>\n",
              "      <td>electrical</td>\n",
              "    </tr>\n",
              "  </tbody>\n",
              "</table>\n",
              "</div>"
            ],
            "text/plain": [
              "                                             context  categories\n",
              "0  I have a Champion 120V generator, I want to us...  electrical\n",
              "2  Can I run conduit containing 120V wires inside...  electrical\n",
              "3  30V on 120 circuit - swapped dishwashers and c...  electrical\n",
              "7                 How much 120 from 240 is too much?  electrical\n",
              "8  Is it possible to wire a 240v outlet so that a...  electrical"
            ]
          },
          "metadata": {},
          "execution_count": 61
        }
      ]
    },
    {
      "cell_type": "code",
      "metadata": {
        "colab": {
          "base_uri": "https://localhost:8080/"
        },
        "id": "bGiu40Cw2oJ5",
        "outputId": "07d13b59-dad3-4a85-d880-dc9462956dbd"
      },
      "source": [
        "count = result['categories'].value_counts()\n",
        "\n",
        "count.head(60)"
      ],
      "execution_count": null,
      "outputs": [
        {
          "output_type": "execute_result",
          "data": {
            "text/plain": [
              "electrical              15264\n",
              "plumbing                 8200\n",
              "materials                5604\n",
              "wiring                   5258\n",
              "hvac                     5257\n",
              "exterior-maintenance     4733\n",
              "lighting                 3642\n",
              "appliances               3488\n",
              "hardware-tools           3294\n",
              "safety                   2786\n",
              "walls-drywallls          2509\n",
              "interior-maintenance     2491\n",
              "insulation               2191\n",
              "Name: categories, dtype: int64"
            ]
          },
          "metadata": {},
          "execution_count": 36
        }
      ]
    },
    {
      "cell_type": "markdown",
      "metadata": {
        "id": "7CSeAA4u9zP_"
      },
      "source": [
        ""
      ]
    },
    {
      "cell_type": "code",
      "metadata": {
        "id": "f-IzYL6hujuy"
      },
      "source": [
        "df = result['categories'].groupby([result.context]).apply(list).reset_index()"
      ],
      "execution_count": null,
      "outputs": []
    },
    {
      "cell_type": "code",
      "metadata": {
        "colab": {
          "base_uri": "https://localhost:8080/",
          "height": 204
        },
        "id": "qerdmUBcyzVq",
        "outputId": "a38d9e7e-8509-4da0-f058-179bc5fd0790"
      },
      "source": [
        "df.head()"
      ],
      "execution_count": null,
      "outputs": [
        {
          "output_type": "execute_result",
          "data": {
            "text/html": [
              "<div>\n",
              "<style scoped>\n",
              "    .dataframe tbody tr th:only-of-type {\n",
              "        vertical-align: middle;\n",
              "    }\n",
              "\n",
              "    .dataframe tbody tr th {\n",
              "        vertical-align: top;\n",
              "    }\n",
              "\n",
              "    .dataframe thead th {\n",
              "        text-align: right;\n",
              "    }\n",
              "</style>\n",
              "<table border=\"1\" class=\"dataframe\">\n",
              "  <thead>\n",
              "    <tr style=\"text-align: right;\">\n",
              "      <th></th>\n",
              "      <th>context</th>\n",
              "      <th>categories</th>\n",
              "    </tr>\n",
              "  </thead>\n",
              "  <tbody>\n",
              "    <tr>\n",
              "      <th>0</th>\n",
              "      <td>\"3-in-1\" kits for maytag refrigerator</td>\n",
              "      <td>[appliances]</td>\n",
              "    </tr>\n",
              "    <tr>\n",
              "      <th>1</th>\n",
              "      <td>\"Attic stairs\" equivelent in an attic \"hatch\" ...</td>\n",
              "      <td>[interior-maintenance]</td>\n",
              "    </tr>\n",
              "    <tr>\n",
              "      <th>2</th>\n",
              "      <td>\"Axle cap\": what is it called and how to remov...</td>\n",
              "      <td>[hardware-tools]</td>\n",
              "    </tr>\n",
              "    <tr>\n",
              "      <th>3</th>\n",
              "      <td>\"Bendy\" screwdriver</td>\n",
              "      <td>[hardware-tools]</td>\n",
              "    </tr>\n",
              "    <tr>\n",
              "      <th>4</th>\n",
              "      <td>\"Built-in corrosion inhibition\" - Does it work...</td>\n",
              "      <td>[hardware-tools]</td>\n",
              "    </tr>\n",
              "  </tbody>\n",
              "</table>\n",
              "</div>"
            ],
            "text/plain": [
              "                                             context              categories\n",
              "0              \"3-in-1\" kits for maytag refrigerator            [appliances]\n",
              "1  \"Attic stairs\" equivelent in an attic \"hatch\" ...  [interior-maintenance]\n",
              "2  \"Axle cap\": what is it called and how to remov...        [hardware-tools]\n",
              "3                                \"Bendy\" screwdriver        [hardware-tools]\n",
              "4  \"Built-in corrosion inhibition\" - Does it work...        [hardware-tools]"
            ]
          },
          "metadata": {},
          "execution_count": 63
        }
      ]
    },
    {
      "cell_type": "code",
      "metadata": {
        "colab": {
          "base_uri": "https://localhost:8080/",
          "height": 204
        },
        "id": "DvP7--UOuj_I",
        "outputId": "24cc7b40-cb7e-4de7-f766-d77790d7787f"
      },
      "source": [
        "df = df.replace('\\n','', regex=True)\n",
        "df.head()"
      ],
      "execution_count": null,
      "outputs": [
        {
          "output_type": "execute_result",
          "data": {
            "text/html": [
              "<div>\n",
              "<style scoped>\n",
              "    .dataframe tbody tr th:only-of-type {\n",
              "        vertical-align: middle;\n",
              "    }\n",
              "\n",
              "    .dataframe tbody tr th {\n",
              "        vertical-align: top;\n",
              "    }\n",
              "\n",
              "    .dataframe thead th {\n",
              "        text-align: right;\n",
              "    }\n",
              "</style>\n",
              "<table border=\"1\" class=\"dataframe\">\n",
              "  <thead>\n",
              "    <tr style=\"text-align: right;\">\n",
              "      <th></th>\n",
              "      <th>context</th>\n",
              "      <th>categories</th>\n",
              "    </tr>\n",
              "  </thead>\n",
              "  <tbody>\n",
              "    <tr>\n",
              "      <th>0</th>\n",
              "      <td>\"3-in-1\" kits for maytag refrigerator</td>\n",
              "      <td>[appliances]</td>\n",
              "    </tr>\n",
              "    <tr>\n",
              "      <th>1</th>\n",
              "      <td>\"Attic stairs\" equivelent in an attic \"hatch\" ...</td>\n",
              "      <td>[interior-maintenance]</td>\n",
              "    </tr>\n",
              "    <tr>\n",
              "      <th>2</th>\n",
              "      <td>\"Axle cap\": what is it called and how to remov...</td>\n",
              "      <td>[hardware-tools]</td>\n",
              "    </tr>\n",
              "    <tr>\n",
              "      <th>3</th>\n",
              "      <td>\"Bendy\" screwdriver</td>\n",
              "      <td>[hardware-tools]</td>\n",
              "    </tr>\n",
              "    <tr>\n",
              "      <th>4</th>\n",
              "      <td>\"Built-in corrosion inhibition\" - Does it work...</td>\n",
              "      <td>[hardware-tools]</td>\n",
              "    </tr>\n",
              "  </tbody>\n",
              "</table>\n",
              "</div>"
            ],
            "text/plain": [
              "                                             context              categories\n",
              "0              \"3-in-1\" kits for maytag refrigerator            [appliances]\n",
              "1  \"Attic stairs\" equivelent in an attic \"hatch\" ...  [interior-maintenance]\n",
              "2  \"Axle cap\": what is it called and how to remov...        [hardware-tools]\n",
              "3                                \"Bendy\" screwdriver        [hardware-tools]\n",
              "4  \"Built-in corrosion inhibition\" - Does it work...        [hardware-tools]"
            ]
          },
          "metadata": {},
          "execution_count": 64
        }
      ]
    },
    {
      "cell_type": "code",
      "metadata": {
        "id": "AakbLgsS7jj6"
      },
      "source": [
        "\n",
        "df['categories'] = df['categories'].astype('str')"
      ],
      "execution_count": null,
      "outputs": []
    },
    {
      "cell_type": "code",
      "metadata": {
        "id": "YDTZpEWbM1Pk"
      },
      "source": [
        "df['categories'] = df['categories'].str.replace(\"[\\[\\]\\\"']\", \"\")"
      ],
      "execution_count": null,
      "outputs": []
    },
    {
      "cell_type": "code",
      "metadata": {
        "colab": {
          "base_uri": "https://localhost:8080/",
          "height": 204
        },
        "id": "UwrBX-5_NcRf",
        "outputId": "f0c00984-b442-4359-d70b-7b97d658dd3e"
      },
      "source": [
        "df.head()"
      ],
      "execution_count": null,
      "outputs": [
        {
          "output_type": "execute_result",
          "data": {
            "text/html": [
              "<div>\n",
              "<style scoped>\n",
              "    .dataframe tbody tr th:only-of-type {\n",
              "        vertical-align: middle;\n",
              "    }\n",
              "\n",
              "    .dataframe tbody tr th {\n",
              "        vertical-align: top;\n",
              "    }\n",
              "\n",
              "    .dataframe thead th {\n",
              "        text-align: right;\n",
              "    }\n",
              "</style>\n",
              "<table border=\"1\" class=\"dataframe\">\n",
              "  <thead>\n",
              "    <tr style=\"text-align: right;\">\n",
              "      <th></th>\n",
              "      <th>context</th>\n",
              "      <th>categories</th>\n",
              "    </tr>\n",
              "  </thead>\n",
              "  <tbody>\n",
              "    <tr>\n",
              "      <th>0</th>\n",
              "      <td>\"3-in-1\" kits for maytag refrigerator</td>\n",
              "      <td>appliances</td>\n",
              "    </tr>\n",
              "    <tr>\n",
              "      <th>1</th>\n",
              "      <td>\"Attic stairs\" equivelent in an attic \"hatch\" ...</td>\n",
              "      <td>interior-maintenance</td>\n",
              "    </tr>\n",
              "    <tr>\n",
              "      <th>2</th>\n",
              "      <td>\"Axle cap\": what is it called and how to remov...</td>\n",
              "      <td>hardware-tools</td>\n",
              "    </tr>\n",
              "    <tr>\n",
              "      <th>3</th>\n",
              "      <td>\"Bendy\" screwdriver</td>\n",
              "      <td>hardware-tools</td>\n",
              "    </tr>\n",
              "    <tr>\n",
              "      <th>4</th>\n",
              "      <td>\"Built-in corrosion inhibition\" - Does it work...</td>\n",
              "      <td>hardware-tools</td>\n",
              "    </tr>\n",
              "  </tbody>\n",
              "</table>\n",
              "</div>"
            ],
            "text/plain": [
              "                                             context            categories\n",
              "0              \"3-in-1\" kits for maytag refrigerator            appliances\n",
              "1  \"Attic stairs\" equivelent in an attic \"hatch\" ...  interior-maintenance\n",
              "2  \"Axle cap\": what is it called and how to remov...        hardware-tools\n",
              "3                                \"Bendy\" screwdriver        hardware-tools\n",
              "4  \"Built-in corrosion inhibition\" - Does it work...        hardware-tools"
            ]
          },
          "metadata": {},
          "execution_count": 67
        }
      ]
    },
    {
      "cell_type": "code",
      "metadata": {
        "id": "Cc35EkuIDDE3"
      },
      "source": [
        "df.drop(df[df['categories'] == 'electrical'].index, inplace=True)\n",
        "df.drop(df[df['categories'] == 'plumbing'].index, inplace=True)\n",
        "df.drop(df[df['categories'] == 'hvac'].index, inplace=True)\n",
        "df.drop(df[df['categories'] == 'wiring'].index, inplace=True)\n",
        "df.drop(df[df['categories'] == 'materials'].index, inplace=True)\n",
        "df.drop(df[df['categories'] == 'exterior-maintenance'].index, inplace=True)\n",
        "df.drop(df[df['categories'] == 'electrical, plumbing'].index, inplace=True)\n",
        "df.drop(df[df['categories'] == 'electrical, hvac'].index, inplace=True)\n",
        "df.drop(df[df['categories'] == 'electrical, materials'].index, inplace=True)\n",
        "df.drop(df[df['categories'] == 'electrical, exterior-maintenance'].index, inplace=True)\n",
        "df.drop(df[df['categories'] == 'electrical, appliances'].index, inplace=True)\n",
        "df.drop(df[df['categories'] == 'electrical, safety'].index, inplace=True)\n",
        "df.drop(df[df['categories'] == 'electrical, lighting'].index, inplace=True)\n",
        "df.drop(df[df['categories'] == 'electrical, hardware-tools'].index, inplace=True)\n",
        "df.drop(df[df['categories'] == 'electrical, interior-maintenance'].index, inplace=True)\n",
        "\n"
      ],
      "execution_count": null,
      "outputs": []
    },
    {
      "cell_type": "code",
      "metadata": {
        "colab": {
          "base_uri": "https://localhost:8080/"
        },
        "id": "4joaEFwRGHWu",
        "outputId": "2f70b1c1-693e-48a8-db7c-0911acf7b16f"
      },
      "source": [
        "df.shape"
      ],
      "execution_count": null,
      "outputs": [
        {
          "output_type": "execute_result",
          "data": {
            "text/plain": [
              "(21218, 2)"
            ]
          },
          "metadata": {},
          "execution_count": 69
        }
      ]
    },
    {
      "cell_type": "code",
      "metadata": {
        "colab": {
          "base_uri": "https://localhost:8080/",
          "height": 204
        },
        "id": "ulaOg-k0HSbx",
        "outputId": "f2e95844-300a-434e-c79a-9a93b2d82971"
      },
      "source": [
        "df.head()"
      ],
      "execution_count": null,
      "outputs": [
        {
          "output_type": "execute_result",
          "data": {
            "text/html": [
              "<div>\n",
              "<style scoped>\n",
              "    .dataframe tbody tr th:only-of-type {\n",
              "        vertical-align: middle;\n",
              "    }\n",
              "\n",
              "    .dataframe tbody tr th {\n",
              "        vertical-align: top;\n",
              "    }\n",
              "\n",
              "    .dataframe thead th {\n",
              "        text-align: right;\n",
              "    }\n",
              "</style>\n",
              "<table border=\"1\" class=\"dataframe\">\n",
              "  <thead>\n",
              "    <tr style=\"text-align: right;\">\n",
              "      <th></th>\n",
              "      <th>context</th>\n",
              "      <th>categories</th>\n",
              "    </tr>\n",
              "  </thead>\n",
              "  <tbody>\n",
              "    <tr>\n",
              "      <th>0</th>\n",
              "      <td>\"3-in-1\" kits for maytag refrigerator</td>\n",
              "      <td>appliances</td>\n",
              "    </tr>\n",
              "    <tr>\n",
              "      <th>1</th>\n",
              "      <td>\"Attic stairs\" equivelent in an attic \"hatch\" ...</td>\n",
              "      <td>interior-maintenance</td>\n",
              "    </tr>\n",
              "    <tr>\n",
              "      <th>2</th>\n",
              "      <td>\"Axle cap\": what is it called and how to remov...</td>\n",
              "      <td>hardware-tools</td>\n",
              "    </tr>\n",
              "    <tr>\n",
              "      <th>3</th>\n",
              "      <td>\"Bendy\" screwdriver</td>\n",
              "      <td>hardware-tools</td>\n",
              "    </tr>\n",
              "    <tr>\n",
              "      <th>4</th>\n",
              "      <td>\"Built-in corrosion inhibition\" - Does it work...</td>\n",
              "      <td>hardware-tools</td>\n",
              "    </tr>\n",
              "  </tbody>\n",
              "</table>\n",
              "</div>"
            ],
            "text/plain": [
              "                                             context            categories\n",
              "0              \"3-in-1\" kits for maytag refrigerator            appliances\n",
              "1  \"Attic stairs\" equivelent in an attic \"hatch\" ...  interior-maintenance\n",
              "2  \"Axle cap\": what is it called and how to remov...        hardware-tools\n",
              "3                                \"Bendy\" screwdriver        hardware-tools\n",
              "4  \"Built-in corrosion inhibition\" - Does it work...        hardware-tools"
            ]
          },
          "metadata": {},
          "execution_count": 70
        }
      ]
    },
    {
      "cell_type": "code",
      "metadata": {
        "id": "bsUcq81dukV9"
      },
      "source": [
        "df = pd.DataFrame(df.categories.str.split(',').tolist(), index=df.context).stack()\n",
        "df = df.reset_index([0, 'context'])\n",
        "df.columns = ['context', 'categories']\n"
      ],
      "execution_count": null,
      "outputs": []
    },
    {
      "cell_type": "code",
      "metadata": {
        "colab": {
          "base_uri": "https://localhost:8080/",
          "height": 204
        },
        "id": "km8hu9avMQdx",
        "outputId": "26b2a955-80b2-41cd-8d2c-fbc5977ab4a2"
      },
      "source": [
        "df.head()"
      ],
      "execution_count": null,
      "outputs": [
        {
          "output_type": "execute_result",
          "data": {
            "text/html": [
              "<div>\n",
              "<style scoped>\n",
              "    .dataframe tbody tr th:only-of-type {\n",
              "        vertical-align: middle;\n",
              "    }\n",
              "\n",
              "    .dataframe tbody tr th {\n",
              "        vertical-align: top;\n",
              "    }\n",
              "\n",
              "    .dataframe thead th {\n",
              "        text-align: right;\n",
              "    }\n",
              "</style>\n",
              "<table border=\"1\" class=\"dataframe\">\n",
              "  <thead>\n",
              "    <tr style=\"text-align: right;\">\n",
              "      <th></th>\n",
              "      <th>context</th>\n",
              "      <th>categories</th>\n",
              "    </tr>\n",
              "  </thead>\n",
              "  <tbody>\n",
              "    <tr>\n",
              "      <th>0</th>\n",
              "      <td>\"3-in-1\" kits for maytag refrigerator</td>\n",
              "      <td>appliances</td>\n",
              "    </tr>\n",
              "    <tr>\n",
              "      <th>1</th>\n",
              "      <td>\"Attic stairs\" equivelent in an attic \"hatch\" ...</td>\n",
              "      <td>interior-maintenance</td>\n",
              "    </tr>\n",
              "    <tr>\n",
              "      <th>2</th>\n",
              "      <td>\"Axle cap\": what is it called and how to remov...</td>\n",
              "      <td>hardware-tools</td>\n",
              "    </tr>\n",
              "    <tr>\n",
              "      <th>3</th>\n",
              "      <td>\"Bendy\" screwdriver</td>\n",
              "      <td>hardware-tools</td>\n",
              "    </tr>\n",
              "    <tr>\n",
              "      <th>4</th>\n",
              "      <td>\"Built-in corrosion inhibition\" - Does it work...</td>\n",
              "      <td>hardware-tools</td>\n",
              "    </tr>\n",
              "  </tbody>\n",
              "</table>\n",
              "</div>"
            ],
            "text/plain": [
              "                                             context            categories\n",
              "0              \"3-in-1\" kits for maytag refrigerator            appliances\n",
              "1  \"Attic stairs\" equivelent in an attic \"hatch\" ...  interior-maintenance\n",
              "2  \"Axle cap\": what is it called and how to remov...        hardware-tools\n",
              "3                                \"Bendy\" screwdriver        hardware-tools\n",
              "4  \"Built-in corrosion inhibition\" - Does it work...        hardware-tools"
            ]
          },
          "metadata": {},
          "execution_count": 72
        }
      ]
    },
    {
      "cell_type": "code",
      "metadata": {
        "colab": {
          "base_uri": "https://localhost:8080/",
          "height": 204
        },
        "id": "WfjMZQgPEVBd",
        "outputId": "b320b200-c1f2-4536-a411-3359d2ccb936"
      },
      "source": [
        "\n",
        "df['categories'] = df['categories'].str.replace(\" \", \"\")\n",
        "df.head()"
      ],
      "execution_count": null,
      "outputs": [
        {
          "output_type": "execute_result",
          "data": {
            "text/html": [
              "<div>\n",
              "<style scoped>\n",
              "    .dataframe tbody tr th:only-of-type {\n",
              "        vertical-align: middle;\n",
              "    }\n",
              "\n",
              "    .dataframe tbody tr th {\n",
              "        vertical-align: top;\n",
              "    }\n",
              "\n",
              "    .dataframe thead th {\n",
              "        text-align: right;\n",
              "    }\n",
              "</style>\n",
              "<table border=\"1\" class=\"dataframe\">\n",
              "  <thead>\n",
              "    <tr style=\"text-align: right;\">\n",
              "      <th></th>\n",
              "      <th>context</th>\n",
              "      <th>categories</th>\n",
              "    </tr>\n",
              "  </thead>\n",
              "  <tbody>\n",
              "    <tr>\n",
              "      <th>0</th>\n",
              "      <td>\"3-in-1\" kits for maytag refrigerator</td>\n",
              "      <td>appliances</td>\n",
              "    </tr>\n",
              "    <tr>\n",
              "      <th>1</th>\n",
              "      <td>\"Attic stairs\" equivelent in an attic \"hatch\" ...</td>\n",
              "      <td>interior-maintenance</td>\n",
              "    </tr>\n",
              "    <tr>\n",
              "      <th>2</th>\n",
              "      <td>\"Axle cap\": what is it called and how to remov...</td>\n",
              "      <td>hardware-tools</td>\n",
              "    </tr>\n",
              "    <tr>\n",
              "      <th>3</th>\n",
              "      <td>\"Bendy\" screwdriver</td>\n",
              "      <td>hardware-tools</td>\n",
              "    </tr>\n",
              "    <tr>\n",
              "      <th>4</th>\n",
              "      <td>\"Built-in corrosion inhibition\" - Does it work...</td>\n",
              "      <td>hardware-tools</td>\n",
              "    </tr>\n",
              "  </tbody>\n",
              "</table>\n",
              "</div>"
            ],
            "text/plain": [
              "                                             context            categories\n",
              "0              \"3-in-1\" kits for maytag refrigerator            appliances\n",
              "1  \"Attic stairs\" equivelent in an attic \"hatch\" ...  interior-maintenance\n",
              "2  \"Axle cap\": what is it called and how to remov...        hardware-tools\n",
              "3                                \"Bendy\" screwdriver        hardware-tools\n",
              "4  \"Built-in corrosion inhibition\" - Does it work...        hardware-tools"
            ]
          },
          "metadata": {},
          "execution_count": 73
        }
      ]
    },
    {
      "cell_type": "code",
      "metadata": {
        "colab": {
          "base_uri": "https://localhost:8080/"
        },
        "id": "uVEierc48opF",
        "outputId": "5f10f711-64d0-4aa2-832d-b5f4e2d3fdd9"
      },
      "source": [
        "c = df['categories'].value_counts()\n",
        "c.head(13)"
      ],
      "execution_count": null,
      "outputs": [
        {
          "output_type": "execute_result",
          "data": {
            "text/plain": [
              "electrical              4410\n",
              "wiring                  4322\n",
              "hardware-tools          3129\n",
              "appliances              3038\n",
              "materials               2969\n",
              "exterior-maintenance    2573\n",
              "safety                  2556\n",
              "plumbing                2523\n",
              "walls-drywallls         2509\n",
              "interior-maintenance    2431\n",
              "lighting                2381\n",
              "insulation              2191\n",
              "hvac                    2155\n",
              "Name: categories, dtype: int64"
            ]
          },
          "metadata": {},
          "execution_count": 74
        }
      ]
    },
    {
      "cell_type": "code",
      "metadata": {
        "id": "LItyHCU-Smqw"
      },
      "source": [
        "df = df['categories'].groupby([df.context]).apply(list).reset_index()"
      ],
      "execution_count": null,
      "outputs": []
    },
    {
      "cell_type": "code",
      "metadata": {
        "colab": {
          "base_uri": "https://localhost:8080/"
        },
        "id": "TPpsSyC-S1jC",
        "outputId": "0db48ef6-8112-49e3-a9c3-2280e19eae37"
      },
      "source": [
        "df.shape"
      ],
      "execution_count": null,
      "outputs": [
        {
          "output_type": "execute_result",
          "data": {
            "text/plain": [
              "(21218, 2)"
            ]
          },
          "metadata": {},
          "execution_count": 77
        }
      ]
    },
    {
      "cell_type": "code",
      "metadata": {
        "colab": {
          "base_uri": "https://localhost:8080/",
          "height": 204
        },
        "id": "rqaOumcQSspB",
        "outputId": "961629dc-8912-43b3-88c1-7245ba4ac4d7"
      },
      "source": [
        "df.head()"
      ],
      "execution_count": null,
      "outputs": [
        {
          "output_type": "execute_result",
          "data": {
            "text/html": [
              "<div>\n",
              "<style scoped>\n",
              "    .dataframe tbody tr th:only-of-type {\n",
              "        vertical-align: middle;\n",
              "    }\n",
              "\n",
              "    .dataframe tbody tr th {\n",
              "        vertical-align: top;\n",
              "    }\n",
              "\n",
              "    .dataframe thead th {\n",
              "        text-align: right;\n",
              "    }\n",
              "</style>\n",
              "<table border=\"1\" class=\"dataframe\">\n",
              "  <thead>\n",
              "    <tr style=\"text-align: right;\">\n",
              "      <th></th>\n",
              "      <th>context</th>\n",
              "      <th>categories</th>\n",
              "    </tr>\n",
              "  </thead>\n",
              "  <tbody>\n",
              "    <tr>\n",
              "      <th>0</th>\n",
              "      <td>\"3-in-1\" kits for maytag refrigerator</td>\n",
              "      <td>[appliances]</td>\n",
              "    </tr>\n",
              "    <tr>\n",
              "      <th>1</th>\n",
              "      <td>\"Attic stairs\" equivelent in an attic \"hatch\" ...</td>\n",
              "      <td>[interior-maintenance]</td>\n",
              "    </tr>\n",
              "    <tr>\n",
              "      <th>2</th>\n",
              "      <td>\"Axle cap\": what is it called and how to remov...</td>\n",
              "      <td>[hardware-tools]</td>\n",
              "    </tr>\n",
              "    <tr>\n",
              "      <th>3</th>\n",
              "      <td>\"Bendy\" screwdriver</td>\n",
              "      <td>[hardware-tools]</td>\n",
              "    </tr>\n",
              "    <tr>\n",
              "      <th>4</th>\n",
              "      <td>\"Built-in corrosion inhibition\" - Does it work...</td>\n",
              "      <td>[hardware-tools]</td>\n",
              "    </tr>\n",
              "  </tbody>\n",
              "</table>\n",
              "</div>"
            ],
            "text/plain": [
              "                                             context              categories\n",
              "0              \"3-in-1\" kits for maytag refrigerator            [appliances]\n",
              "1  \"Attic stairs\" equivelent in an attic \"hatch\" ...  [interior-maintenance]\n",
              "2  \"Axle cap\": what is it called and how to remov...        [hardware-tools]\n",
              "3                                \"Bendy\" screwdriver        [hardware-tools]\n",
              "4  \"Built-in corrosion inhibition\" - Does it work...        [hardware-tools]"
            ]
          },
          "metadata": {},
          "execution_count": 78
        }
      ]
    },
    {
      "cell_type": "code",
      "metadata": {
        "colab": {
          "base_uri": "https://localhost:8080/",
          "height": 204
        },
        "id": "dWH5bVc7DQwC",
        "outputId": "fc127202-d4a4-41d2-9bed-e38d0490905d"
      },
      "source": [
        "df[\"id\"] = df.index + 1\n",
        "df = df[['id','context','categories']]\n",
        "df.head()"
      ],
      "execution_count": null,
      "outputs": [
        {
          "output_type": "execute_result",
          "data": {
            "text/html": [
              "<div>\n",
              "<style scoped>\n",
              "    .dataframe tbody tr th:only-of-type {\n",
              "        vertical-align: middle;\n",
              "    }\n",
              "\n",
              "    .dataframe tbody tr th {\n",
              "        vertical-align: top;\n",
              "    }\n",
              "\n",
              "    .dataframe thead th {\n",
              "        text-align: right;\n",
              "    }\n",
              "</style>\n",
              "<table border=\"1\" class=\"dataframe\">\n",
              "  <thead>\n",
              "    <tr style=\"text-align: right;\">\n",
              "      <th></th>\n",
              "      <th>id</th>\n",
              "      <th>context</th>\n",
              "      <th>categories</th>\n",
              "    </tr>\n",
              "  </thead>\n",
              "  <tbody>\n",
              "    <tr>\n",
              "      <th>0</th>\n",
              "      <td>1</td>\n",
              "      <td>\"3-in-1\" kits for maytag refrigerator</td>\n",
              "      <td>[appliances]</td>\n",
              "    </tr>\n",
              "    <tr>\n",
              "      <th>1</th>\n",
              "      <td>2</td>\n",
              "      <td>\"Attic stairs\" equivelent in an attic \"hatch\" ...</td>\n",
              "      <td>[interior-maintenance]</td>\n",
              "    </tr>\n",
              "    <tr>\n",
              "      <th>2</th>\n",
              "      <td>3</td>\n",
              "      <td>\"Axle cap\": what is it called and how to remov...</td>\n",
              "      <td>[hardware-tools]</td>\n",
              "    </tr>\n",
              "    <tr>\n",
              "      <th>3</th>\n",
              "      <td>4</td>\n",
              "      <td>\"Bendy\" screwdriver</td>\n",
              "      <td>[hardware-tools]</td>\n",
              "    </tr>\n",
              "    <tr>\n",
              "      <th>4</th>\n",
              "      <td>5</td>\n",
              "      <td>\"Built-in corrosion inhibition\" - Does it work...</td>\n",
              "      <td>[hardware-tools]</td>\n",
              "    </tr>\n",
              "  </tbody>\n",
              "</table>\n",
              "</div>"
            ],
            "text/plain": [
              "   id  ...              categories\n",
              "0   1  ...            [appliances]\n",
              "1   2  ...  [interior-maintenance]\n",
              "2   3  ...        [hardware-tools]\n",
              "3   4  ...        [hardware-tools]\n",
              "4   5  ...        [hardware-tools]\n",
              "\n",
              "[5 rows x 3 columns]"
            ]
          },
          "metadata": {},
          "execution_count": 79
        }
      ]
    },
    {
      "cell_type": "code",
      "metadata": {
        "id": "P5nT6o23u-ab"
      },
      "source": [
        "df.to_csv(r'/content/drive/MyDrive/Dataset/HMDataset.csv', index = False)"
      ],
      "execution_count": null,
      "outputs": []
    },
    {
      "cell_type": "code",
      "metadata": {
        "id": "OD7tU7MitxlU"
      },
      "source": [
        ""
      ],
      "execution_count": null,
      "outputs": []
    },
    {
      "cell_type": "code",
      "metadata": {
        "id": "mo0a6aKVtxo0"
      },
      "source": [
        ""
      ],
      "execution_count": null,
      "outputs": []
    },
    {
      "cell_type": "code",
      "metadata": {
        "id": "O1A_GMX2txsk"
      },
      "source": [
        ""
      ],
      "execution_count": null,
      "outputs": []
    },
    {
      "cell_type": "code",
      "metadata": {
        "id": "3biuA4V8Wuzg"
      },
      "source": [
        ""
      ],
      "execution_count": null,
      "outputs": []
    },
    {
      "cell_type": "code",
      "metadata": {
        "id": "DrewQoXKWu_q"
      },
      "source": [
        ""
      ],
      "execution_count": null,
      "outputs": []
    },
    {
      "cell_type": "code",
      "metadata": {
        "id": "JZP5D3RsWvNa"
      },
      "source": [
        ""
      ],
      "execution_count": null,
      "outputs": []
    },
    {
      "cell_type": "code",
      "metadata": {
        "id": "dsmNq-NDWvXl"
      },
      "source": [
        ""
      ],
      "execution_count": null,
      "outputs": []
    },
    {
      "cell_type": "code",
      "metadata": {
        "id": "ooHisGZjWvoY"
      },
      "source": [
        ""
      ],
      "execution_count": null,
      "outputs": []
    },
    {
      "cell_type": "code",
      "metadata": {
        "id": "cnRsAdxJWv5o"
      },
      "source": [
        ""
      ],
      "execution_count": null,
      "outputs": []
    },
    {
      "cell_type": "code",
      "metadata": {
        "id": "CujdXbs0WwL5"
      },
      "source": [
        ""
      ],
      "execution_count": null,
      "outputs": []
    }
  ]
}